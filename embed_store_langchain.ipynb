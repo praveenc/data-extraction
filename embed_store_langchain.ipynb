{
 "cells": [
  {
   "cell_type": "markdown",
   "id": "62b7b184-d861-4cf5-b74b-9f298425626f",
   "metadata": {},
   "source": [
    "# Store posts to Vector Store FAISS\n",
    "\n",
    "Goal here is to ask questions related to content of the blog post material. \n",
    "To achieve this, we need to use Retrieval-Augmented-Generation (RAG) and create prompts that contain relevant context along with the query.\n",
    "\n",
    "In the previous [notebook](scrape_blogpost.ipynb) we extracted blog post content data from AWS Machine Learning blogs.\n",
    "\n",
    "In this notebook, we'll clean, split, encode and store the extracted blog post contents to a Vector Store ([FAISS](https://github.com/facebookresearch/faiss))"
   ]
  },
  {
   "cell_type": "code",
   "execution_count": 1,
   "id": "43cba441-ccef-44c1-b4a1-c59aba0fd697",
   "metadata": {
    "tags": []
   },
   "outputs": [],
   "source": [
    "import re\n",
    "from pathlib import Path\n",
    "from typing import Dict, List\n",
    "\n",
    "import numpy as np\n",
    "import pandas as pd\n",
    "import torch\n",
    "import torch.nn.functional as F\n",
    "from bs4 import BeautifulSoup\n",
    "from langchain.docstore.document import Document\n",
    "from langchain.embeddings import HuggingFaceEmbeddings\n",
    "from langchain.vectorstores.faiss import FAISS\n",
    "from nltk.tokenize import sent_tokenize\n",
    "from pydantic import BaseModel\n",
    "from rich import print\n",
    "from torch import Tensor\n",
    "from tqdm import tqdm\n",
    "from transformers import AutoModel, AutoTokenizer\n",
    "\n",
    "import faiss"
   ]
  },
  {
   "cell_type": "code",
   "execution_count": 2,
   "id": "6f8425d6-6c5a-4d52-8875-edd874420496",
   "metadata": {
    "tags": []
   },
   "outputs": [],
   "source": [
    "# Root directory where all extracted blog post files are\n",
    "DATADIR = Path(\"./data\")\n",
    "\n",
    "# Use rglob to recursively find all parquet files\n",
    "file_list = list(DATADIR.rglob(\"*.parquet\"))"
   ]
  },
  {
   "cell_type": "code",
   "execution_count": 3,
   "id": "8e2aaf02-1b59-4bff-b24c-1669b264cf16",
   "metadata": {
    "tags": []
   },
   "outputs": [
    {
     "data": {
      "text/plain": [
       "[PosixPath('data/aws/ml_blog_posts/rss/democratize-computer-vision-defect-detection-for-manufacturing-quality-using-no-code-machine-learning-with-amazon-sagemaker-canvas.parquet'),\n",
       " PosixPath('data/aws/ml_blog_posts/rss/retain-original-pdf-formatting-to-view-translated-documents-with-amazon-textract-amazon-translate-and-pdfbox.parquet'),\n",
       " PosixPath('data/aws/ml_blog_posts/rss/integrate-saas-platforms-with-amazon-sagemaker-to-enable-ml-powered-applications.parquet'),\n",
       " PosixPath('data/aws/ml_blog_posts/rss/recommend-and-dynamically-filter-items-based-on-user-context-in-amazon-personalize.parquet'),\n",
       " PosixPath('data/aws/ml_blog_posts/rss/use-proprietary-foundation-models-from-amazon-sagemaker-jumpstart-in-amazon-sagemaker-studio.parquet'),\n",
       " PosixPath('data/aws/ml_blog_posts/rss/use-the-aws-cdk-to-deploy-amazon-sagemaker-studio-lifecycle-configurations.parquet'),\n",
       " PosixPath('data/aws/ml_blog_posts/rss/deploy-a-serverless-ml-inference-endpoint-of-large-language-models-using-fastapi-aws-lambda-and-aws-cdk.parquet'),\n",
       " PosixPath('data/aws/ml_blog_posts/rss/effectively-solve-distributed-training-convergence-issues-with-amazon-sagemaker-hyperband-automatic-model-tuning.parquet'),\n",
       " PosixPath('data/aws/ml_blog_posts/rss/accelerate-time-to-business-insights-with-the-amazon-sagemaker-data-wrangler-direct-connection-to-snowflake.parquet'),\n",
       " PosixPath('data/aws/ml_blog_posts/rss/access-private-repos-using-the-remote-decorator-for-amazon-sagemaker-training-workloads.parquet'),\n",
       " PosixPath('data/aws/ml_blog_posts/rss/interactively-fine-tune-falcon-40b-and-other-llms-on-amazon-sagemaker-studio-notebooks-using-qlora.parquet'),\n",
       " PosixPath('data/aws/ml_blog_posts/rss/capture-public-health-insights-more-quickly-with-no-code-machine-learning-using-amazon-sagemaker-canvas.parquet'),\n",
       " PosixPath('data/aws/ml_blog_posts/rss/safe-image-generation-and-diffusion-models-with-amazon-ai-content-moderation-services.parquet'),\n",
       " PosixPath('data/aws/ml_blog_posts/rss/auto-labeling-module-for-deep-learning-based-advanced-driver-assistance-systems-on-aws.parquet'),\n",
       " PosixPath('data/aws/ml_blog_posts/rss/how-earth-com-and-provectus-implemented-their-mlops-infrastructure-with-amazon-sagemaker.parquet')]"
      ]
     },
     "execution_count": 3,
     "metadata": {},
     "output_type": "execute_result"
    }
   ],
   "source": [
    "file_list[0:15]"
   ]
  },
  {
   "cell_type": "markdown",
   "id": "23ef099f-65e6-4f5d-b551-21df8a640c86",
   "metadata": {},
   "source": [
    "## Extract Metadata from the stored parquet file\n",
    "\n",
    "Each parquet file is loaded to a pandas dataframe. Dataframe has the following columns\n",
    "- Title\n",
    "- Authors\n",
    "- Published Date\n",
    "- Tags\n",
    "- Content\n",
    "- URL\n",
    "- Image URLs (only when extracted via BeautifulSoup)\n",
    "\n",
    "We extract all columns, except Content, and prepare a *metadata* dictionary object.\n",
    "This *metadata* dictionary will be used when constructing Langchain's *document* object (`langchain.docstore.document.Document`)"
   ]
  },
  {
   "cell_type": "markdown",
   "id": "40b3021d-fc42-4b0a-b0af-67e47923a13f",
   "metadata": {
    "tags": []
   },
   "source": [
    "### Encode and store processed text chunks to Vector Store\n",
    "\n",
    "Define text embedding model to encode the text chunks and store it to FAISS Vector Store\n",
    "\n",
    "We use **intfloat/e5-large-v2** model from huggingface as our embedding model.\n",
    "\n",
    "#### Save extracted doc embeddings to FAISS Index Locally\n",
    "\n",
    "- Here we make use of LangChains `FAISS.from_documents` helper function to ingest docs to FAISS with text embedding model.\n",
    "- If Index already exists on disk then skips creating a new index.\n",
    "- Here we do NOT use `TextSplitter` or `CharacterSplitter` as we have already split our documents with `create_langchain_documents` function."
   ]
  },
  {
   "cell_type": "code",
   "execution_count": 12,
   "id": "af547660-6cae-49f0-973e-8ddafb7ae650",
   "metadata": {
    "tags": []
   },
   "outputs": [],
   "source": [
    "# Function to clean text of html tags, URLs and special characters\n",
    "def clean_text(text):\n",
    "    # Remove HTML tags\n",
    "    text = BeautifulSoup(text, \"html.parser\").get_text()\n",
    "\n",
    "    # Remove URLs\n",
    "    text = re.sub(r\"http[s]?://\\S+\", \"\", text)\n",
    "\n",
    "    # Lowercase the text\n",
    "    text = text.lower()\n",
    "\n",
    "    # Remove punctuation and special characters (optional)\n",
    "    # text = re.sub(r\"\\W\", \" \", text)\n",
    "\n",
    "    # Substitute multiple spaces with a single space\n",
    "    text = re.sub(r\"\\s+\", \" \", text).strip()\n",
    "\n",
    "    return text\n",
    "\n",
    "\n",
    "# Function to split content to paragraphs and then to passages\n",
    "def create_passages(\n",
    "    df: pd.DataFrame,\n",
    "    passage_window: int = 4,\n",
    ") -> List[str]:\n",
    "    # Extract blog post content as Corpus\n",
    "    corpus = clean_text(df.Content[0])\n",
    "\n",
    "    # Split content as paragraphs and then into passages\n",
    "    paragraphs = []\n",
    "    for paragraph in corpus.replace(\"\\r\\n\", \"\\n\").split(\"\\n\\n\"):\n",
    "        if len(paragraph.strip()) > 0:\n",
    "            paragraphs.append(sent_tokenize(paragraph.strip()))\n",
    "\n",
    "    # We combine up to 3 sentences into a passage.\n",
    "    # You can choose smaller or larger values for window_size\n",
    "    # Smaller value: Context from other sentences might get lost\n",
    "    # Lager values: More context from the paragraph remains, but results are longer\n",
    "\n",
    "    window_size = passage_window\n",
    "    passages = []\n",
    "    for paragraph in paragraphs:\n",
    "        for start_idx in range(0, len(paragraph), window_size):\n",
    "            end_idx = min(start_idx + window_size, len(paragraph))\n",
    "            passages.append(\" \".join(paragraph[start_idx:end_idx]))\n",
    "\n",
    "    # print(\"Paragraphs: \", len(paragraphs))\n",
    "    # print(\"Sentences: \", sum([len(p) for p in paragraphs]))\n",
    "    # print(\"Passages: \", len(passages))\n",
    "    return passages\n",
    "\n",
    "\n",
    "# Function to ingest passages into a faiss index\n",
    "def ingest_passages_to_faiss(\n",
    "    docs: List[str], faiss_index: faiss.IndexFlatL2, index_filename: str\n",
    "):\n",
    "    for doc in tqdm(docs, total=len(docs), desc=\"Ingesting passages\"):\n",
    "        embeddings = encode_e5(doc)\n",
    "        faiss_index.add(embeddings)\n",
    "\n",
    "    print(f\"Saving index to {index_filename}\")\n",
    "    faiss.write_index(faiss_index, index_filename)\n",
    "\n",
    "\n",
    "def encode_e5(corpus: str, normalize: bool = True) -> Tensor:\n",
    "    model_id = \"intfloat/e5-large-v2\"\n",
    "    tokenizer = AutoTokenizer.from_pretrained(model_id)\n",
    "    model = AutoModel.from_pretrained(model_id)\n",
    "\n",
    "    def average_pool(last_hidden_states: Tensor, attention_mask: Tensor) -> Tensor:\n",
    "        last_hidden = last_hidden_states.masked_fill(\n",
    "            ~attention_mask[..., None].bool(), 0.0\n",
    "        )\n",
    "        return last_hidden.sum(dim=1) / attention_mask.sum(dim=1)[..., None]\n",
    "\n",
    "    # tokenize input\n",
    "    tokenized_input = tokenizer(\n",
    "        corpus,\n",
    "        padding=True,\n",
    "        truncation=True,\n",
    "        max_length=512,\n",
    "        return_tensors=\"pt\",\n",
    "    )\n",
    "\n",
    "    with torch.no_grad():\n",
    "        outputs = model(**tokenized_input)\n",
    "        embeddings = average_pool(\n",
    "            outputs.last_hidden_state, tokenized_input[\"attention_mask\"]\n",
    "        )\n",
    "\n",
    "    if normalize:\n",
    "        # (Optionally) normalize embeddings\n",
    "        embeddings = F.normalize(embeddings, p=2, dim=1)\n",
    "    # print(type(embeddings))\n",
    "    # print(embeddings.shape)\n",
    "    # convert tensor to numpy array as faiss index accepts vectors as ndarrays\n",
    "    embeddings = embeddings.numpy()\n",
    "    # print(type(embeddings))\n",
    "    # print(embeddings.shape)\n",
    "    return embeddings\n",
    "\n",
    "\n",
    "def get_embedding_dimensions(model_id: str) -> int:\n",
    "    model = AutoModel.from_pretrained(model_id)\n",
    "\n",
    "    # The embedding dimension is the size of the hidden states\n",
    "    embedding_dimension = model.config.hidden_size\n",
    "    return embedding_dimension\n",
    "\n",
    "\n",
    "def save_index(index, filename):\n",
    "    \"\"\"\n",
    "    Save the FAISS index to a file.\n",
    "    \"\"\"\n",
    "    faiss.write_index(index, filename)\n",
    "\n",
    "\n",
    "# Helper function to extract metadata from dataframe\n",
    "def extract_metadata(df) -> Dict:\n",
    "    data = {}\n",
    "    for column in df.columns:\n",
    "        for value in df[column]:\n",
    "            if str(column) != \"Content\":\n",
    "                if isinstance(value, np.ndarray):\n",
    "                    data[column] = value.tolist()\n",
    "                else:\n",
    "                    data[column] = value\n",
    "\n",
    "    # Update the key 'url' to 'source'\n",
    "    data[\"source\"] = data.pop(\"URL\")\n",
    "\n",
    "    # convert values to lowercase, replace spaces with underscore\n",
    "    metadata = {}\n",
    "    for key, value in data.items():\n",
    "        new_key = key.lower().replace(\" \", \"_\")\n",
    "        metadata[new_key] = value\n",
    "    return metadata\n",
    "\n",
    "\n",
    "# Function to split content to paragraphs and then to passages\n",
    "def create_langchain_documents(\n",
    "    df: pd.DataFrame,\n",
    "    passage_window: int = 4,\n",
    ") -> List[Document]:\n",
    "    # Extract blog post content as Corpus\n",
    "    corpus = df.Content[0]\n",
    "\n",
    "    # Split content as paragraphs and then into passages\n",
    "    paragraphs = []\n",
    "    for paragraph in corpus.replace(\"\\r\\n\", \"\\n\").split(\"\\n\\n\"):\n",
    "        if len(paragraph.strip()) > 0:\n",
    "            paragraphs.append(sent_tokenize(paragraph.strip()))\n",
    "\n",
    "    # We combine up to 3 sentences into a passage.\n",
    "    # You can choose smaller or larger values for window_size\n",
    "    # Smaller value: Context from other sentences might get lost\n",
    "    # Lager values: More context from the paragraph remains, but results are longer\n",
    "\n",
    "    window_size = passage_window\n",
    "    passages = []\n",
    "    for paragraph in paragraphs:\n",
    "        for start_idx in range(0, len(paragraph), window_size):\n",
    "            end_idx = min(start_idx + window_size, len(paragraph))\n",
    "            passages.append(\" \".join(paragraph[start_idx:end_idx]))\n",
    "\n",
    "    # print(\"Paragraphs: \", len(paragraphs))\n",
    "    # print(\"Sentences: \", sum([len(p) for p in paragraphs]))\n",
    "    # print(\"Passages: \", len(passages))\n",
    "    docs = list()\n",
    "    num_passages = len(passages)\n",
    "\n",
    "    metadata = extract_metadata(df)\n",
    "    for i, passage in enumerate(passages):\n",
    "        # Create a copy of the metadata dictionary\n",
    "        metadata_copy = metadata.copy()\n",
    "        # Add current passage # as a new key-value pair\n",
    "        metadata_copy[\"passage\"] = f\"{i+1}/{num_passages}\"\n",
    "        docs.append(Document(page_content=clean_text(passage), metadata=metadata_copy))\n",
    "\n",
    "    return docs"
   ]
  },
  {
   "cell_type": "markdown",
   "id": "105d3c04-1148-4c2e-bb53-9381dae442d0",
   "metadata": {},
   "source": [
    "### Extract and Prepare data for encoding (embedding vector)\n",
    "\n",
    "\n",
    "To retrieve (search) relevant chunks of text for a give question, we perform a similarity search to find relevant chunks of text that are similar to the question.\n",
    "As our problem here is a \"asymmetric search\" problem, we'll need to choose a text embedding model that performs well for Retrieval tasks.\n",
    "\n",
    "We read the parquet file to a pandas dataframe and then extract all columns, except Content, as metadata.\n",
    "Read the \"Content\" of the blog_post as corpus and then split the content as paragraphs and then to passages comprising of 3 sentences.\n",
    "We then encode these passage chunks with an appropriate text embedding model and then store these embeddings into a vector store."
   ]
  },
  {
   "cell_type": "code",
   "execution_count": 9,
   "id": "8d11b0af-b4e7-4eae-b5a7-6979792026a4",
   "metadata": {
    "tags": []
   },
   "outputs": [
    {
     "data": {
      "text/html": [
       "<pre style=\"white-space:pre;overflow-x:auto;line-height:normal;font-family:Menlo,'DejaVu Sans Mono',consolas,'Courier New',monospace\">Creating index: aws_ml_blog_posts with dimensions <span style=\"color: #008080; text-decoration-color: #008080; font-weight: bold\">1024</span>\n",
       "</pre>\n"
      ],
      "text/plain": [
       "Creating index: aws_ml_blog_posts with dimensions \u001b[1;36m1024\u001b[0m\n"
      ]
     },
     "metadata": {},
     "output_type": "display_data"
    }
   ],
   "source": [
    "# Use rglob to recursively find all parquet files\n",
    "file_list = list(DATADIR.rglob(\"*.parquet\"))\n",
    "INDEX_DIR = Path(\"./faiss\")\n",
    "INDEX_DIR.mkdir(exist_ok=True, parents=True)\n",
    "\n",
    "# Define index name and index fullpath\n",
    "INDEX_NAME = \"aws_ml_blog_posts\"\n",
    "INDEX_FULLPATH = INDEX_DIR.joinpath(f\"{INDEX_NAME}.faiss\").absolute()\n",
    "\n",
    "if INDEX_FULLPATH.exists():\n",
    "    # Load the index from the file\n",
    "    index = faiss.read_index(str(INDEX_FULLPATH))\n",
    "    print(f\"Loaded index from {INDEX_FULLPATH}\")\n",
    "else:\n",
    "    # Create a new FAISS index\n",
    "    dimension = get_embedding_dimensions(\"intfloat/e5-large-v2\")\n",
    "    print(f\"Creating index: {INDEX_NAME} with dimensions {dimension}\")\n",
    "    index = faiss.IndexFlatL2(dimension)\n",
    "    faiss.write_index(index, str(INDEX_FULLPATH))"
   ]
  },
  {
   "cell_type": "code",
   "execution_count": 14,
   "id": "de0e4cd2-cab0-43f8-97c1-f56c2241ac07",
   "metadata": {
    "collapsed": true,
    "jupyter": {
     "outputs_hidden": true
    },
    "tags": []
   },
   "outputs": [
    {
     "data": {
      "text/html": [
       "<pre style=\"white-space:pre;overflow-x:auto;line-height:normal;font-family:Menlo,'DejaVu Sans Mono',consolas,'Courier New',monospace\">No local index found, creating index from docs\n",
       "</pre>\n"
      ],
      "text/plain": [
       "No local index found, creating index from docs\n"
      ]
     },
     "metadata": {},
     "output_type": "display_data"
    },
    {
     "data": {
      "text/html": [
       "<pre style=\"white-space:pre;overflow-x:auto;line-height:normal;font-family:Menlo,'DejaVu Sans Mono',consolas,'Courier New',monospace\">Ingesting passages for \n",
       "data/aws/ml_blog_posts/rss/democratize-computer-vision-defect-detection-for-manufacturing-quality-using-no-code-mac\n",
       "hine-learning-with-amazon-sagemaker-canvas.parquet\n",
       "</pre>\n"
      ],
      "text/plain": [
       "Ingesting passages for \n",
       "data/aws/ml_blog_posts/rss/democratize-computer-vision-defect-detection-for-manufacturing-quality-using-no-code-mac\n",
       "hine-learning-with-amazon-sagemaker-canvas.parquet\n"
      ]
     },
     "metadata": {},
     "output_type": "display_data"
    },
    {
     "data": {
      "text/html": [
       "<pre style=\"white-space:pre;overflow-x:auto;line-height:normal;font-family:Menlo,'DejaVu Sans Mono',consolas,'Courier New',monospace\">Using embedding model: intfloat/e5-base-v2\n",
       "</pre>\n"
      ],
      "text/plain": [
       "Using embedding model: intfloat/e5-base-v2\n"
      ]
     },
     "metadata": {},
     "output_type": "display_data"
    },
    {
     "data": {
      "text/html": [
       "<pre style=\"white-space:pre;overflow-x:auto;line-height:normal;font-family:Menlo,'DejaVu Sans Mono',consolas,'Courier New',monospace\">Ingesting passages for \n",
       "data/aws/ml_blog_posts/rss/retain-original-pdf-formatting-to-view-translated-documents-with-amazon-textract-amazon-\n",
       "translate-and-pdfbox.parquet\n",
       "</pre>\n"
      ],
      "text/plain": [
       "Ingesting passages for \n",
       "data/aws/ml_blog_posts/rss/retain-original-pdf-formatting-to-view-translated-documents-with-amazon-textract-amazon-\n",
       "translate-and-pdfbox.parquet\n"
      ]
     },
     "metadata": {},
     "output_type": "display_data"
    },
    {
     "name": "stderr",
     "output_type": "stream",
     "text": [
      "/var/folders/kn/8wpz4sf966gfx5m_p4tynl300000gr/T/ipykernel_69206/790893378.py:4: MarkupResemblesLocatorWarning: The input looks more like a filename than markup. You may want to open this file and pass the filehandle into Beautiful Soup.\n",
      "  text = BeautifulSoup(text, \"html.parser\").get_text()\n"
     ]
    },
    {
     "data": {
      "text/html": [
       "<pre style=\"white-space:pre;overflow-x:auto;line-height:normal;font-family:Menlo,'DejaVu Sans Mono',consolas,'Courier New',monospace\">Using embedding model: intfloat/e5-base-v2\n",
       "</pre>\n"
      ],
      "text/plain": [
       "Using embedding model: intfloat/e5-base-v2\n"
      ]
     },
     "metadata": {},
     "output_type": "display_data"
    },
    {
     "data": {
      "text/html": [
       "<pre style=\"white-space:pre;overflow-x:auto;line-height:normal;font-family:Menlo,'DejaVu Sans Mono',consolas,'Courier New',monospace\">Ingesting passages for \n",
       "data/aws/ml_blog_posts/rss/integrate-saas-platforms-with-amazon-sagemaker-to-enable-ml-powered-applications.parquet\n",
       "</pre>\n"
      ],
      "text/plain": [
       "Ingesting passages for \n",
       "data/aws/ml_blog_posts/rss/integrate-saas-platforms-with-amazon-sagemaker-to-enable-ml-powered-applications.parquet\n"
      ]
     },
     "metadata": {},
     "output_type": "display_data"
    },
    {
     "data": {
      "text/html": [
       "<pre style=\"white-space:pre;overflow-x:auto;line-height:normal;font-family:Menlo,'DejaVu Sans Mono',consolas,'Courier New',monospace\">Using embedding model: intfloat/e5-base-v2\n",
       "</pre>\n"
      ],
      "text/plain": [
       "Using embedding model: intfloat/e5-base-v2\n"
      ]
     },
     "metadata": {},
     "output_type": "display_data"
    },
    {
     "data": {
      "text/html": [
       "<pre style=\"white-space:pre;overflow-x:auto;line-height:normal;font-family:Menlo,'DejaVu Sans Mono',consolas,'Courier New',monospace\">Ingesting passages for \n",
       "data/aws/ml_blog_posts/rss/recommend-and-dynamically-filter-items-based-on-user-context-in-amazon-personalize.parqu\n",
       "et\n",
       "</pre>\n"
      ],
      "text/plain": [
       "Ingesting passages for \n",
       "data/aws/ml_blog_posts/rss/recommend-and-dynamically-filter-items-based-on-user-context-in-amazon-personalize.parqu\n",
       "et\n"
      ]
     },
     "metadata": {},
     "output_type": "display_data"
    },
    {
     "data": {
      "text/html": [
       "<pre style=\"white-space:pre;overflow-x:auto;line-height:normal;font-family:Menlo,'DejaVu Sans Mono',consolas,'Courier New',monospace\">Using embedding model: intfloat/e5-base-v2\n",
       "</pre>\n"
      ],
      "text/plain": [
       "Using embedding model: intfloat/e5-base-v2\n"
      ]
     },
     "metadata": {},
     "output_type": "display_data"
    },
    {
     "data": {
      "text/html": [
       "<pre style=\"white-space:pre;overflow-x:auto;line-height:normal;font-family:Menlo,'DejaVu Sans Mono',consolas,'Courier New',monospace\">Ingesting passages for \n",
       "data/aws/ml_blog_posts/rss/use-proprietary-foundation-models-from-amazon-sagemaker-jumpstart-in-amazon-sagemaker-st\n",
       "udio.parquet\n",
       "</pre>\n"
      ],
      "text/plain": [
       "Ingesting passages for \n",
       "data/aws/ml_blog_posts/rss/use-proprietary-foundation-models-from-amazon-sagemaker-jumpstart-in-amazon-sagemaker-st\n",
       "udio.parquet\n"
      ]
     },
     "metadata": {},
     "output_type": "display_data"
    },
    {
     "data": {
      "text/html": [
       "<pre style=\"white-space:pre;overflow-x:auto;line-height:normal;font-family:Menlo,'DejaVu Sans Mono',consolas,'Courier New',monospace\">Using embedding model: intfloat/e5-base-v2\n",
       "</pre>\n"
      ],
      "text/plain": [
       "Using embedding model: intfloat/e5-base-v2\n"
      ]
     },
     "metadata": {},
     "output_type": "display_data"
    },
    {
     "data": {
      "text/html": [
       "<pre style=\"white-space:pre;overflow-x:auto;line-height:normal;font-family:Menlo,'DejaVu Sans Mono',consolas,'Courier New',monospace\">Ingesting passages for \n",
       "data/aws/ml_blog_posts/rss/use-the-aws-cdk-to-deploy-amazon-sagemaker-studio-lifecycle-configurations.parquet\n",
       "</pre>\n"
      ],
      "text/plain": [
       "Ingesting passages for \n",
       "data/aws/ml_blog_posts/rss/use-the-aws-cdk-to-deploy-amazon-sagemaker-studio-lifecycle-configurations.parquet\n"
      ]
     },
     "metadata": {},
     "output_type": "display_data"
    },
    {
     "data": {
      "text/html": [
       "<pre style=\"white-space:pre;overflow-x:auto;line-height:normal;font-family:Menlo,'DejaVu Sans Mono',consolas,'Courier New',monospace\">Using embedding model: intfloat/e5-base-v2\n",
       "</pre>\n"
      ],
      "text/plain": [
       "Using embedding model: intfloat/e5-base-v2\n"
      ]
     },
     "metadata": {},
     "output_type": "display_data"
    },
    {
     "data": {
      "text/html": [
       "<pre style=\"white-space:pre;overflow-x:auto;line-height:normal;font-family:Menlo,'DejaVu Sans Mono',consolas,'Courier New',monospace\">Ingesting passages for \n",
       "data/aws/ml_blog_posts/rss/deploy-a-serverless-ml-inference-endpoint-of-large-language-models-using-fastapi-aws-lam\n",
       "bda-and-aws-cdk.parquet\n",
       "</pre>\n"
      ],
      "text/plain": [
       "Ingesting passages for \n",
       "data/aws/ml_blog_posts/rss/deploy-a-serverless-ml-inference-endpoint-of-large-language-models-using-fastapi-aws-lam\n",
       "bda-and-aws-cdk.parquet\n"
      ]
     },
     "metadata": {},
     "output_type": "display_data"
    },
    {
     "name": "stderr",
     "output_type": "stream",
     "text": [
      "/var/folders/kn/8wpz4sf966gfx5m_p4tynl300000gr/T/ipykernel_69206/790893378.py:4: MarkupResemblesLocatorWarning: The input looks more like a filename than markup. You may want to open this file and pass the filehandle into Beautiful Soup.\n",
      "  text = BeautifulSoup(text, \"html.parser\").get_text()\n"
     ]
    },
    {
     "data": {
      "text/html": [
       "<pre style=\"white-space:pre;overflow-x:auto;line-height:normal;font-family:Menlo,'DejaVu Sans Mono',consolas,'Courier New',monospace\">Using embedding model: intfloat/e5-base-v2\n",
       "</pre>\n"
      ],
      "text/plain": [
       "Using embedding model: intfloat/e5-base-v2\n"
      ]
     },
     "metadata": {},
     "output_type": "display_data"
    },
    {
     "data": {
      "text/html": [
       "<pre style=\"white-space:pre;overflow-x:auto;line-height:normal;font-family:Menlo,'DejaVu Sans Mono',consolas,'Courier New',monospace\">Ingesting passages for \n",
       "data/aws/ml_blog_posts/rss/effectively-solve-distributed-training-convergence-issues-with-amazon-sagemaker-hyperban\n",
       "d-automatic-model-tuning.parquet\n",
       "</pre>\n"
      ],
      "text/plain": [
       "Ingesting passages for \n",
       "data/aws/ml_blog_posts/rss/effectively-solve-distributed-training-convergence-issues-with-amazon-sagemaker-hyperban\n",
       "d-automatic-model-tuning.parquet\n"
      ]
     },
     "metadata": {},
     "output_type": "display_data"
    },
    {
     "data": {
      "text/html": [
       "<pre style=\"white-space:pre;overflow-x:auto;line-height:normal;font-family:Menlo,'DejaVu Sans Mono',consolas,'Courier New',monospace\">Using embedding model: intfloat/e5-base-v2\n",
       "</pre>\n"
      ],
      "text/plain": [
       "Using embedding model: intfloat/e5-base-v2\n"
      ]
     },
     "metadata": {},
     "output_type": "display_data"
    },
    {
     "data": {
      "text/html": [
       "<pre style=\"white-space:pre;overflow-x:auto;line-height:normal;font-family:Menlo,'DejaVu Sans Mono',consolas,'Courier New',monospace\">Ingesting passages for \n",
       "data/aws/ml_blog_posts/rss/accelerate-time-to-business-insights-with-the-amazon-sagemaker-data-wrangler-direct-conn\n",
       "ection-to-snowflake.parquet\n",
       "</pre>\n"
      ],
      "text/plain": [
       "Ingesting passages for \n",
       "data/aws/ml_blog_posts/rss/accelerate-time-to-business-insights-with-the-amazon-sagemaker-data-wrangler-direct-conn\n",
       "ection-to-snowflake.parquet\n"
      ]
     },
     "metadata": {},
     "output_type": "display_data"
    },
    {
     "name": "stderr",
     "output_type": "stream",
     "text": [
      "/var/folders/kn/8wpz4sf966gfx5m_p4tynl300000gr/T/ipykernel_69206/790893378.py:4: MarkupResemblesLocatorWarning: The input looks more like a filename than markup. You may want to open this file and pass the filehandle into Beautiful Soup.\n",
      "  text = BeautifulSoup(text, \"html.parser\").get_text()\n"
     ]
    },
    {
     "data": {
      "text/html": [
       "<pre style=\"white-space:pre;overflow-x:auto;line-height:normal;font-family:Menlo,'DejaVu Sans Mono',consolas,'Courier New',monospace\">Using embedding model: intfloat/e5-base-v2\n",
       "</pre>\n"
      ],
      "text/plain": [
       "Using embedding model: intfloat/e5-base-v2\n"
      ]
     },
     "metadata": {},
     "output_type": "display_data"
    },
    {
     "data": {
      "text/html": [
       "<pre style=\"white-space:pre;overflow-x:auto;line-height:normal;font-family:Menlo,'DejaVu Sans Mono',consolas,'Courier New',monospace\">Ingesting passages for \n",
       "data/aws/ml_blog_posts/rss/access-private-repos-using-the-remote-decorator-for-amazon-sagemaker-training-workloads.\n",
       "parquet\n",
       "</pre>\n"
      ],
      "text/plain": [
       "Ingesting passages for \n",
       "data/aws/ml_blog_posts/rss/access-private-repos-using-the-remote-decorator-for-amazon-sagemaker-training-workloads.\n",
       "parquet\n"
      ]
     },
     "metadata": {},
     "output_type": "display_data"
    },
    {
     "data": {
      "text/html": [
       "<pre style=\"white-space:pre;overflow-x:auto;line-height:normal;font-family:Menlo,'DejaVu Sans Mono',consolas,'Courier New',monospace\">Using embedding model: intfloat/e5-base-v2\n",
       "</pre>\n"
      ],
      "text/plain": [
       "Using embedding model: intfloat/e5-base-v2\n"
      ]
     },
     "metadata": {},
     "output_type": "display_data"
    },
    {
     "data": {
      "text/html": [
       "<pre style=\"white-space:pre;overflow-x:auto;line-height:normal;font-family:Menlo,'DejaVu Sans Mono',consolas,'Courier New',monospace\">Ingesting passages for \n",
       "data/aws/ml_blog_posts/rss/interactively-fine-tune-falcon-40b-and-other-llms-on-amazon-sagemaker-studio-notebooks-u\n",
       "sing-qlora.parquet\n",
       "</pre>\n"
      ],
      "text/plain": [
       "Ingesting passages for \n",
       "data/aws/ml_blog_posts/rss/interactively-fine-tune-falcon-40b-and-other-llms-on-amazon-sagemaker-studio-notebooks-u\n",
       "sing-qlora.parquet\n"
      ]
     },
     "metadata": {},
     "output_type": "display_data"
    },
    {
     "data": {
      "text/html": [
       "<pre style=\"white-space:pre;overflow-x:auto;line-height:normal;font-family:Menlo,'DejaVu Sans Mono',consolas,'Courier New',monospace\">Using embedding model: intfloat/e5-base-v2\n",
       "</pre>\n"
      ],
      "text/plain": [
       "Using embedding model: intfloat/e5-base-v2\n"
      ]
     },
     "metadata": {},
     "output_type": "display_data"
    },
    {
     "data": {
      "text/html": [
       "<pre style=\"white-space:pre;overflow-x:auto;line-height:normal;font-family:Menlo,'DejaVu Sans Mono',consolas,'Courier New',monospace\">Ingesting passages for \n",
       "data/aws/ml_blog_posts/rss/capture-public-health-insights-more-quickly-with-no-code-machine-learning-using-amazon-s\n",
       "agemaker-canvas.parquet\n",
       "</pre>\n"
      ],
      "text/plain": [
       "Ingesting passages for \n",
       "data/aws/ml_blog_posts/rss/capture-public-health-insights-more-quickly-with-no-code-machine-learning-using-amazon-s\n",
       "agemaker-canvas.parquet\n"
      ]
     },
     "metadata": {},
     "output_type": "display_data"
    },
    {
     "data": {
      "text/html": [
       "<pre style=\"white-space:pre;overflow-x:auto;line-height:normal;font-family:Menlo,'DejaVu Sans Mono',consolas,'Courier New',monospace\">Using embedding model: intfloat/e5-base-v2\n",
       "</pre>\n"
      ],
      "text/plain": [
       "Using embedding model: intfloat/e5-base-v2\n"
      ]
     },
     "metadata": {},
     "output_type": "display_data"
    },
    {
     "data": {
      "text/html": [
       "<pre style=\"white-space:pre;overflow-x:auto;line-height:normal;font-family:Menlo,'DejaVu Sans Mono',consolas,'Courier New',monospace\">Ingesting passages for \n",
       "data/aws/ml_blog_posts/rss/safe-image-generation-and-diffusion-models-with-amazon-ai-content-moderation-services.pa\n",
       "rquet\n",
       "</pre>\n"
      ],
      "text/plain": [
       "Ingesting passages for \n",
       "data/aws/ml_blog_posts/rss/safe-image-generation-and-diffusion-models-with-amazon-ai-content-moderation-services.pa\n",
       "rquet\n"
      ]
     },
     "metadata": {},
     "output_type": "display_data"
    },
    {
     "data": {
      "text/html": [
       "<pre style=\"white-space:pre;overflow-x:auto;line-height:normal;font-family:Menlo,'DejaVu Sans Mono',consolas,'Courier New',monospace\">Using embedding model: intfloat/e5-base-v2\n",
       "</pre>\n"
      ],
      "text/plain": [
       "Using embedding model: intfloat/e5-base-v2\n"
      ]
     },
     "metadata": {},
     "output_type": "display_data"
    },
    {
     "data": {
      "text/html": [
       "<pre style=\"white-space:pre;overflow-x:auto;line-height:normal;font-family:Menlo,'DejaVu Sans Mono',consolas,'Courier New',monospace\">Ingesting passages for \n",
       "data/aws/ml_blog_posts/rss/auto-labeling-module-for-deep-learning-based-advanced-driver-assistance-systems-on-aws.p\n",
       "arquet\n",
       "</pre>\n"
      ],
      "text/plain": [
       "Ingesting passages for \n",
       "data/aws/ml_blog_posts/rss/auto-labeling-module-for-deep-learning-based-advanced-driver-assistance-systems-on-aws.p\n",
       "arquet\n"
      ]
     },
     "metadata": {},
     "output_type": "display_data"
    },
    {
     "data": {
      "text/html": [
       "<pre style=\"white-space:pre;overflow-x:auto;line-height:normal;font-family:Menlo,'DejaVu Sans Mono',consolas,'Courier New',monospace\">Using embedding model: intfloat/e5-base-v2\n",
       "</pre>\n"
      ],
      "text/plain": [
       "Using embedding model: intfloat/e5-base-v2\n"
      ]
     },
     "metadata": {},
     "output_type": "display_data"
    },
    {
     "data": {
      "text/html": [
       "<pre style=\"white-space:pre;overflow-x:auto;line-height:normal;font-family:Menlo,'DejaVu Sans Mono',consolas,'Courier New',monospace\">Ingesting passages for \n",
       "data/aws/ml_blog_posts/rss/how-earth-com-and-provectus-implemented-their-mlops-infrastructure-with-amazon-sagemaker\n",
       ".parquet\n",
       "</pre>\n"
      ],
      "text/plain": [
       "Ingesting passages for \n",
       "data/aws/ml_blog_posts/rss/how-earth-com-and-provectus-implemented-their-mlops-infrastructure-with-amazon-sagemaker\n",
       ".parquet\n"
      ]
     },
     "metadata": {},
     "output_type": "display_data"
    },
    {
     "data": {
      "text/html": [
       "<pre style=\"white-space:pre;overflow-x:auto;line-height:normal;font-family:Menlo,'DejaVu Sans Mono',consolas,'Courier New',monospace\">Using embedding model: intfloat/e5-base-v2\n",
       "</pre>\n"
      ],
      "text/plain": [
       "Using embedding model: intfloat/e5-base-v2\n"
      ]
     },
     "metadata": {},
     "output_type": "display_data"
    },
    {
     "data": {
      "text/html": [
       "<pre style=\"white-space:pre;overflow-x:auto;line-height:normal;font-family:Menlo,'DejaVu Sans Mono',consolas,'Courier New',monospace\">Ingesting passages for \n",
       "data/aws/ml_blog_posts/rss/define-customized-permissions-in-minutes-with-amazon-sagemaker-role-manager-via-the-aws-\n",
       "cdk.parquet\n",
       "</pre>\n"
      ],
      "text/plain": [
       "Ingesting passages for \n",
       "data/aws/ml_blog_posts/rss/define-customized-permissions-in-minutes-with-amazon-sagemaker-role-manager-via-the-aws-\n",
       "cdk.parquet\n"
      ]
     },
     "metadata": {},
     "output_type": "display_data"
    },
    {
     "data": {
      "text/html": [
       "<pre style=\"white-space:pre;overflow-x:auto;line-height:normal;font-family:Menlo,'DejaVu Sans Mono',consolas,'Courier New',monospace\">Using embedding model: intfloat/e5-base-v2\n",
       "</pre>\n"
      ],
      "text/plain": [
       "Using embedding model: intfloat/e5-base-v2\n"
      ]
     },
     "metadata": {},
     "output_type": "display_data"
    },
    {
     "data": {
      "text/html": [
       "<pre style=\"white-space:pre;overflow-x:auto;line-height:normal;font-family:Menlo,'DejaVu Sans Mono',consolas,'Courier New',monospace\">Ingesting passages for data/aws/ml_blog_posts/rss/highlight-text-as-its-being-spoken-using-amazon-polly.parquet\n",
       "</pre>\n"
      ],
      "text/plain": [
       "Ingesting passages for data/aws/ml_blog_posts/rss/highlight-text-as-its-being-spoken-using-amazon-polly.parquet\n"
      ]
     },
     "metadata": {},
     "output_type": "display_data"
    },
    {
     "data": {
      "text/html": [
       "<pre style=\"white-space:pre;overflow-x:auto;line-height:normal;font-family:Menlo,'DejaVu Sans Mono',consolas,'Courier New',monospace\">Using embedding model: intfloat/e5-base-v2\n",
       "</pre>\n"
      ],
      "text/plain": [
       "Using embedding model: intfloat/e5-base-v2\n"
      ]
     },
     "metadata": {},
     "output_type": "display_data"
    },
    {
     "data": {
      "text/html": [
       "<pre style=\"white-space:pre;overflow-x:auto;line-height:normal;font-family:Menlo,'DejaVu Sans Mono',consolas,'Courier New',monospace\">Ingesting passages for \n",
       "data/aws/ml_blog_posts/rss/boost-agent-productivity-with-salesforce-integration-for-live-call-analytics.parquet\n",
       "</pre>\n"
      ],
      "text/plain": [
       "Ingesting passages for \n",
       "data/aws/ml_blog_posts/rss/boost-agent-productivity-with-salesforce-integration-for-live-call-analytics.parquet\n"
      ]
     },
     "metadata": {},
     "output_type": "display_data"
    },
    {
     "data": {
      "text/html": [
       "<pre style=\"white-space:pre;overflow-x:auto;line-height:normal;font-family:Menlo,'DejaVu Sans Mono',consolas,'Courier New',monospace\">Using embedding model: intfloat/e5-base-v2\n",
       "</pre>\n"
      ],
      "text/plain": [
       "Using embedding model: intfloat/e5-base-v2\n"
      ]
     },
     "metadata": {},
     "output_type": "display_data"
    },
    {
     "data": {
      "text/html": [
       "<pre style=\"white-space:pre;overflow-x:auto;line-height:normal;font-family:Menlo,'DejaVu Sans Mono',consolas,'Courier New',monospace\">Ingesting passages for \n",
       "data/aws/ml_blog_posts/rss/predict-vehicle-fleet-failure-probability-using-amazon-sagemaker-jumpstart.parquet\n",
       "</pre>\n"
      ],
      "text/plain": [
       "Ingesting passages for \n",
       "data/aws/ml_blog_posts/rss/predict-vehicle-fleet-failure-probability-using-amazon-sagemaker-jumpstart.parquet\n"
      ]
     },
     "metadata": {},
     "output_type": "display_data"
    },
    {
     "name": "stderr",
     "output_type": "stream",
     "text": [
      "/var/folders/kn/8wpz4sf966gfx5m_p4tynl300000gr/T/ipykernel_69206/790893378.py:4: MarkupResemblesLocatorWarning: The input looks more like a filename than markup. You may want to open this file and pass the filehandle into Beautiful Soup.\n",
      "  text = BeautifulSoup(text, \"html.parser\").get_text()\n"
     ]
    },
    {
     "data": {
      "text/html": [
       "<pre style=\"white-space:pre;overflow-x:auto;line-height:normal;font-family:Menlo,'DejaVu Sans Mono',consolas,'Courier New',monospace\">Using embedding model: intfloat/e5-base-v2\n",
       "</pre>\n"
      ],
      "text/plain": [
       "Using embedding model: intfloat/e5-base-v2\n"
      ]
     },
     "metadata": {},
     "output_type": "display_data"
    },
    {
     "data": {
      "text/html": [
       "<pre style=\"white-space:pre;overflow-x:auto;line-height:normal;font-family:Menlo,'DejaVu Sans Mono',consolas,'Courier New',monospace\">Ingesting passages for \n",
       "data/aws/ml_blog_posts/rss/how-light-wonder-built-a-predictive-maintenance-solution-for-gaming-machines-on-aws.parq\n",
       "uet\n",
       "</pre>\n"
      ],
      "text/plain": [
       "Ingesting passages for \n",
       "data/aws/ml_blog_posts/rss/how-light-wonder-built-a-predictive-maintenance-solution-for-gaming-machines-on-aws.parq\n",
       "uet\n"
      ]
     },
     "metadata": {},
     "output_type": "display_data"
    },
    {
     "data": {
      "text/html": [
       "<pre style=\"white-space:pre;overflow-x:auto;line-height:normal;font-family:Menlo,'DejaVu Sans Mono',consolas,'Courier New',monospace\">Using embedding model: intfloat/e5-base-v2\n",
       "</pre>\n"
      ],
      "text/plain": [
       "Using embedding model: intfloat/e5-base-v2\n"
      ]
     },
     "metadata": {},
     "output_type": "display_data"
    },
    {
     "data": {
      "text/html": [
       "<pre style=\"white-space:pre;overflow-x:auto;line-height:normal;font-family:Menlo,'DejaVu Sans Mono',consolas,'Courier New',monospace\">Ingesting passages for \n",
       "data/aws/ml_blog_posts/bs/deploy-amazon-sagemaker-autopilot-models-to-serverless-inference-endpoints.parquet\n",
       "</pre>\n"
      ],
      "text/plain": [
       "Ingesting passages for \n",
       "data/aws/ml_blog_posts/bs/deploy-amazon-sagemaker-autopilot-models-to-serverless-inference-endpoints.parquet\n"
      ]
     },
     "metadata": {},
     "output_type": "display_data"
    },
    {
     "name": "stderr",
     "output_type": "stream",
     "text": [
      "/var/folders/kn/8wpz4sf966gfx5m_p4tynl300000gr/T/ipykernel_69206/790893378.py:4: MarkupResemblesLocatorWarning: The input looks more like a filename than markup. You may want to open this file and pass the filehandle into Beautiful Soup.\n",
      "  text = BeautifulSoup(text, \"html.parser\").get_text()\n"
     ]
    },
    {
     "data": {
      "text/html": [
       "<pre style=\"white-space:pre;overflow-x:auto;line-height:normal;font-family:Menlo,'DejaVu Sans Mono',consolas,'Courier New',monospace\">Using embedding model: intfloat/e5-base-v2\n",
       "</pre>\n"
      ],
      "text/plain": [
       "Using embedding model: intfloat/e5-base-v2\n"
      ]
     },
     "metadata": {},
     "output_type": "display_data"
    },
    {
     "data": {
      "text/html": [
       "<pre style=\"white-space:pre;overflow-x:auto;line-height:normal;font-family:Menlo,'DejaVu Sans Mono',consolas,'Courier New',monospace\">Ingesting passages for \n",
       "data/aws/ml_blog_posts/bs/part-<span style=\"color: #008080; text-decoration-color: #008080; font-weight: bold\">1</span>-analyze-amazon-sagemaker-spend-and-determine-cost-optimization-opportunities-based\n",
       "-on-usage-part-<span style=\"color: #008080; text-decoration-color: #008080; font-weight: bold\">1.</span>parquet\n",
       "</pre>\n"
      ],
      "text/plain": [
       "Ingesting passages for \n",
       "data/aws/ml_blog_posts/bs/part-\u001b[1;36m1\u001b[0m-analyze-amazon-sagemaker-spend-and-determine-cost-optimization-opportunities-based\n",
       "-on-usage-part-\u001b[1;36m1.\u001b[0mparquet\n"
      ]
     },
     "metadata": {},
     "output_type": "display_data"
    },
    {
     "data": {
      "text/html": [
       "<pre style=\"white-space:pre;overflow-x:auto;line-height:normal;font-family:Menlo,'DejaVu Sans Mono',consolas,'Courier New',monospace\">Using embedding model: intfloat/e5-base-v2\n",
       "</pre>\n"
      ],
      "text/plain": [
       "Using embedding model: intfloat/e5-base-v2\n"
      ]
     },
     "metadata": {},
     "output_type": "display_data"
    },
    {
     "data": {
      "text/html": [
       "<pre style=\"white-space:pre;overflow-x:auto;line-height:normal;font-family:Menlo,'DejaVu Sans Mono',consolas,'Courier New',monospace\">Ingesting passages for \n",
       "data/aws/ml_blog_posts/bs/part-<span style=\"color: #008080; text-decoration-color: #008080; font-weight: bold\">2</span>-analyze-amazon-sagemaker-spend-and-determine-cost-optimization-opportunities-based\n",
       "-on-usage-part-<span style=\"color: #008080; text-decoration-color: #008080; font-weight: bold\">2</span>-sagemaker-notebooks-and-studio.parquet\n",
       "</pre>\n"
      ],
      "text/plain": [
       "Ingesting passages for \n",
       "data/aws/ml_blog_posts/bs/part-\u001b[1;36m2\u001b[0m-analyze-amazon-sagemaker-spend-and-determine-cost-optimization-opportunities-based\n",
       "-on-usage-part-\u001b[1;36m2\u001b[0m-sagemaker-notebooks-and-studio.parquet\n"
      ]
     },
     "metadata": {},
     "output_type": "display_data"
    },
    {
     "data": {
      "text/html": [
       "<pre style=\"white-space:pre;overflow-x:auto;line-height:normal;font-family:Menlo,'DejaVu Sans Mono',consolas,'Courier New',monospace\">Using embedding model: intfloat/e5-base-v2\n",
       "</pre>\n"
      ],
      "text/plain": [
       "Using embedding model: intfloat/e5-base-v2\n"
      ]
     },
     "metadata": {},
     "output_type": "display_data"
    },
    {
     "data": {
      "text/html": [
       "<pre style=\"white-space:pre;overflow-x:auto;line-height:normal;font-family:Menlo,'DejaVu Sans Mono',consolas,'Courier New',monospace\">Ingesting passages for \n",
       "data/aws/ml_blog_posts/bs/part-<span style=\"color: #008080; text-decoration-color: #008080; font-weight: bold\">3</span>-analyze-amazon-sagemaker-spend-and-determine-cost-optimization-opportunities-based\n",
       "-on-usage-part-<span style=\"color: #008080; text-decoration-color: #008080; font-weight: bold\">3</span>-processing-and-data-wrangler-jobs.parquet\n",
       "</pre>\n"
      ],
      "text/plain": [
       "Ingesting passages for \n",
       "data/aws/ml_blog_posts/bs/part-\u001b[1;36m3\u001b[0m-analyze-amazon-sagemaker-spend-and-determine-cost-optimization-opportunities-based\n",
       "-on-usage-part-\u001b[1;36m3\u001b[0m-processing-and-data-wrangler-jobs.parquet\n"
      ]
     },
     "metadata": {},
     "output_type": "display_data"
    },
    {
     "data": {
      "text/html": [
       "<pre style=\"white-space:pre;overflow-x:auto;line-height:normal;font-family:Menlo,'DejaVu Sans Mono',consolas,'Courier New',monospace\">Using embedding model: intfloat/e5-base-v2\n",
       "</pre>\n"
      ],
      "text/plain": [
       "Using embedding model: intfloat/e5-base-v2\n"
      ]
     },
     "metadata": {},
     "output_type": "display_data"
    },
    {
     "data": {
      "text/html": [
       "<pre style=\"white-space:pre;overflow-x:auto;line-height:normal;font-family:Menlo,'DejaVu Sans Mono',consolas,'Courier New',monospace\">Ingesting passages for \n",
       "data/aws/ml_blog_posts/bs/part-<span style=\"color: #008080; text-decoration-color: #008080; font-weight: bold\">5</span>-analyze-amazon-sagemaker-spend-and-determine-cost-optimization-opportunities-based\n",
       "-on-usage-part-<span style=\"color: #008080; text-decoration-color: #008080; font-weight: bold\">5</span>-hosting.parquet\n",
       "</pre>\n"
      ],
      "text/plain": [
       "Ingesting passages for \n",
       "data/aws/ml_blog_posts/bs/part-\u001b[1;36m5\u001b[0m-analyze-amazon-sagemaker-spend-and-determine-cost-optimization-opportunities-based\n",
       "-on-usage-part-\u001b[1;36m5\u001b[0m-hosting.parquet\n"
      ]
     },
     "metadata": {},
     "output_type": "display_data"
    },
    {
     "data": {
      "text/html": [
       "<pre style=\"white-space:pre;overflow-x:auto;line-height:normal;font-family:Menlo,'DejaVu Sans Mono',consolas,'Courier New',monospace\">Using embedding model: intfloat/e5-base-v2\n",
       "</pre>\n"
      ],
      "text/plain": [
       "Using embedding model: intfloat/e5-base-v2\n"
      ]
     },
     "metadata": {},
     "output_type": "display_data"
    },
    {
     "data": {
      "text/html": [
       "<pre style=\"white-space:pre;overflow-x:auto;line-height:normal;font-family:Menlo,'DejaVu Sans Mono',consolas,'Courier New',monospace\">Ingesting passages for \n",
       "data/aws/ml_blog_posts/bs/part-<span style=\"color: #008080; text-decoration-color: #008080; font-weight: bold\">4</span>-analyze-amazon-sagemaker-spend-and-determine-cost-optimization-opportunities-based\n",
       "-on-usage-part-<span style=\"color: #008080; text-decoration-color: #008080; font-weight: bold\">4</span>-training-jobs.parquet\n",
       "</pre>\n"
      ],
      "text/plain": [
       "Ingesting passages for \n",
       "data/aws/ml_blog_posts/bs/part-\u001b[1;36m4\u001b[0m-analyze-amazon-sagemaker-spend-and-determine-cost-optimization-opportunities-based\n",
       "-on-usage-part-\u001b[1;36m4\u001b[0m-training-jobs.parquet\n"
      ]
     },
     "metadata": {},
     "output_type": "display_data"
    },
    {
     "data": {
      "text/html": [
       "<pre style=\"white-space:pre;overflow-x:auto;line-height:normal;font-family:Menlo,'DejaVu Sans Mono',consolas,'Courier New',monospace\">Using embedding model: intfloat/e5-base-v2\n",
       "</pre>\n"
      ],
      "text/plain": [
       "Using embedding model: intfloat/e5-base-v2\n"
      ]
     },
     "metadata": {},
     "output_type": "display_data"
    },
    {
     "data": {
      "text/html": [
       "<pre style=\"white-space:pre;overflow-x:auto;line-height:normal;font-family:Menlo,'DejaVu Sans Mono',consolas,'Courier New',monospace\">Ingesting passages for \n",
       "data/aws/ml_blog_posts/bs/achieve-high-performance-with-lowest-cost-for-generative-ai-inference-using-aws-inferenti\n",
       "a2-and-aws-trainium-on-amazon-sagemaker.parquet\n",
       "</pre>\n"
      ],
      "text/plain": [
       "Ingesting passages for \n",
       "data/aws/ml_blog_posts/bs/achieve-high-performance-with-lowest-cost-for-generative-ai-inference-using-aws-inferenti\n",
       "a2-and-aws-trainium-on-amazon-sagemaker.parquet\n"
      ]
     },
     "metadata": {},
     "output_type": "display_data"
    },
    {
     "name": "stderr",
     "output_type": "stream",
     "text": [
      "/var/folders/kn/8wpz4sf966gfx5m_p4tynl300000gr/T/ipykernel_69206/790893378.py:4: MarkupResemblesLocatorWarning: The input looks more like a filename than markup. You may want to open this file and pass the filehandle into Beautiful Soup.\n",
      "  text = BeautifulSoup(text, \"html.parser\").get_text()\n"
     ]
    },
    {
     "data": {
      "text/html": [
       "<pre style=\"white-space:pre;overflow-x:auto;line-height:normal;font-family:Menlo,'DejaVu Sans Mono',consolas,'Courier New',monospace\">Using embedding model: intfloat/e5-base-v2\n",
       "</pre>\n"
      ],
      "text/plain": [
       "Using embedding model: intfloat/e5-base-v2\n"
      ]
     },
     "metadata": {},
     "output_type": "display_data"
    },
    {
     "data": {
      "text/html": [
       "<pre style=\"white-space:pre;overflow-x:auto;line-height:normal;font-family:Menlo,'DejaVu Sans Mono',consolas,'Courier New',monospace\">Ingesting passages for \n",
       "data/aws/ml_blog_posts/bs/best-practices-for-load-testing-amazon-sagemaker-real-time-inference-endpoints.parquet\n",
       "</pre>\n"
      ],
      "text/plain": [
       "Ingesting passages for \n",
       "data/aws/ml_blog_posts/bs/best-practices-for-load-testing-amazon-sagemaker-real-time-inference-endpoints.parquet\n"
      ]
     },
     "metadata": {},
     "output_type": "display_data"
    },
    {
     "name": "stderr",
     "output_type": "stream",
     "text": [
      "/var/folders/kn/8wpz4sf966gfx5m_p4tynl300000gr/T/ipykernel_69206/790893378.py:4: MarkupResemblesLocatorWarning: The input looks more like a filename than markup. You may want to open this file and pass the filehandle into Beautiful Soup.\n",
      "  text = BeautifulSoup(text, \"html.parser\").get_text()\n"
     ]
    },
    {
     "data": {
      "text/html": [
       "<pre style=\"white-space:pre;overflow-x:auto;line-height:normal;font-family:Menlo,'DejaVu Sans Mono',consolas,'Courier New',monospace\">Using embedding model: intfloat/e5-base-v2\n",
       "</pre>\n"
      ],
      "text/plain": [
       "Using embedding model: intfloat/e5-base-v2\n"
      ]
     },
     "metadata": {},
     "output_type": "display_data"
    },
    {
     "data": {
      "text/html": [
       "<pre style=\"white-space:pre;overflow-x:auto;line-height:normal;font-family:Menlo,'DejaVu Sans Mono',consolas,'Courier New',monospace\">Ingesting passages for \n",
       "data/aws/ml_blog_posts/bs/zero-shot-prompting-for-the-flan-t5-foundation-model-in-amazon-sagemaker-jumpstart.parque\n",
       "t\n",
       "</pre>\n"
      ],
      "text/plain": [
       "Ingesting passages for \n",
       "data/aws/ml_blog_posts/bs/zero-shot-prompting-for-the-flan-t5-foundation-model-in-amazon-sagemaker-jumpstart.parque\n",
       "t\n"
      ]
     },
     "metadata": {},
     "output_type": "display_data"
    },
    {
     "name": "stderr",
     "output_type": "stream",
     "text": [
      "/var/folders/kn/8wpz4sf966gfx5m_p4tynl300000gr/T/ipykernel_69206/790893378.py:4: MarkupResemblesLocatorWarning: The input looks more like a filename than markup. You may want to open this file and pass the filehandle into Beautiful Soup.\n",
      "  text = BeautifulSoup(text, \"html.parser\").get_text()\n"
     ]
    },
    {
     "data": {
      "text/html": [
       "<pre style=\"white-space:pre;overflow-x:auto;line-height:normal;font-family:Menlo,'DejaVu Sans Mono',consolas,'Courier New',monospace\">Using embedding model: intfloat/e5-base-v2\n",
       "</pre>\n"
      ],
      "text/plain": [
       "Using embedding model: intfloat/e5-base-v2\n"
      ]
     },
     "metadata": {},
     "output_type": "display_data"
    },
    {
     "data": {
      "text/html": [
       "<pre style=\"white-space:pre;overflow-x:auto;line-height:normal;font-family:Menlo,'DejaVu Sans Mono',consolas,'Courier New',monospace\">Saving index locally\n",
       "</pre>\n"
      ],
      "text/plain": [
       "Saving index locally\n"
      ]
     },
     "metadata": {},
     "output_type": "display_data"
    }
   ],
   "source": [
    "INDEX_DIR = Path(\"./faiss\")\n",
    "INDEX_DIR.mkdir(exist_ok=True, parents=True)\n",
    "\n",
    "# Define index name and index fullpath\n",
    "INDEX_NAME = \"aws_ml_blog_posts\"\n",
    "INDEX_FULLPATH = INDEX_DIR.joinpath(f\"{INDEX_NAME}.faiss\").absolute()\n",
    "\n",
    "MODEL_PATH = \"intfloat/e5-base-v2\"\n",
    "\n",
    "\n",
    "class EmbedConfig(BaseModel):\n",
    "    embedding_model_name: str = MODEL_PATH\n",
    "    embedding_model_kwargs: Dict = {\"device\": \"cpu\"}\n",
    "    encode_kwargs: Dict = {\"normalize_embeddings\": True}\n",
    "    faiss_index_name: str = INDEX_NAME\n",
    "\n",
    "\n",
    "def get_embedding_model(Config: BaseModel):\n",
    "    print(f\"Using embedding model: {Config.embedding_model_name}\")\n",
    "    hf_embeddings = HuggingFaceEmbeddings(\n",
    "        model_name=Config.embedding_model_name,\n",
    "        model_kwargs=Config.embedding_model_kwargs,\n",
    "        encode_kwargs=Config.encode_kwargs,\n",
    "    )\n",
    "    return hf_embeddings\n",
    "\n",
    "\n",
    "config = EmbedConfig()\n",
    "\n",
    "# If index exists then load the local index\n",
    "if INDEX_FULLPATH.exists():\n",
    "    db = FAISS.load_local(\n",
    "        INDEX_DIR,\n",
    "        embeddings=get_embedding_model(Config=config),\n",
    "        index_name=config.faiss_index_name,\n",
    "    )\n",
    "    print(f\"Loaded existing index: {INDEX_DIR}/{INDEX_NAME}\")\n",
    "else:\n",
    "    print(\"No local index found, creating index from docs\")\n",
    "    for parquet_file in file_list:\n",
    "        print(f\"Ingesting docs for {parquet_file}\")\n",
    "        loaded_df = pd.read_parquet(parquet_file, engine=\"pyarrow\")\n",
    "        docs = create_langchain_documents(loaded_df)\n",
    "        db = FAISS.from_documents(docs, get_embedding_model(Config=config))\n",
    "    print(\"Saving index locally\")\n",
    "    FAISS.save_local(db, INDEX_DIR, INDEX_NAME)"
   ]
  },
  {
   "cell_type": "code",
   "execution_count": null,
   "id": "43a6cae9-683d-4ace-beff-623dc9edffe5",
   "metadata": {
    "tags": []
   },
   "outputs": [],
   "source": [
    "# Read each parquet file from file_list, create passages and ingest passages to faiss index\n",
    "for parquet_file in file_list[0:3]:\n",
    "    print(f\"Ingesting passages for {parquet_file}\")\n",
    "    loaded_df = pd.read_parquet(parquet_file, engine=\"pyarrow\")\n",
    "    # passages = create_passages(loaded_df)\n",
    "    # ingest_passages_to_faiss(passages, index, str(INDEX_FULLPATH))\n",
    "    docs = create_langchain_documents(loaded_df)\n",
    "    index = FAISS.from_documents(docs, get_embedding_model(Config=config))"
   ]
  },
  {
   "cell_type": "code",
   "execution_count": null,
   "id": "ce8f8c1f-cbf4-4faa-87f2-27ecf4c9b3a7",
   "metadata": {
    "tags": []
   },
   "outputs": [],
   "source": [
    "# (Optional) Delete faiss index from disk\n",
    "# Uncomment below code to delete index from disk\n",
    "# if INDEX_FULLPATH.exists():\n",
    "#     INDEX_FULLPATH.unlink()"
   ]
  },
  {
   "cell_type": "markdown",
   "id": "57b93c46-482b-444c-a289-744b8419009c",
   "metadata": {},
   "source": [
    "### Evaluate results using similarity search\n",
    "\n",
    "We first encode the query vector and using the same embedding model then we use the `db.similarity_search_by_vector()` function to search for similar docs to our query"
   ]
  },
  {
   "cell_type": "code",
   "execution_count": 17,
   "id": "89e98133-df69-4f56-9e6f-43b33afe85da",
   "metadata": {
    "tags": []
   },
   "outputs": [
    {
     "data": {
      "text/html": [
       "<pre style=\"white-space:pre;overflow-x:auto;line-height:normal;font-family:Menlo,'DejaVu Sans Mono',consolas,'Courier New',monospace\"><span style=\"font-weight: bold\">[</span>\n",
       "    <span style=\"color: #800080; text-decoration-color: #800080; font-weight: bold\">Document</span><span style=\"font-weight: bold\">(</span>\n",
       "        <span style=\"color: #808000; text-decoration-color: #808000\">page_content</span>=<span style=\"color: #008000; text-decoration-color: #008000\">'the premium pen includes a dedicated eraser and a customizable shortcut button. the kindle </span>\n",
       "<span style=\"color: #008000; text-decoration-color: #008000\">scribe has the most storage options of all kindle devices: choose from 8 gb, 16 gb, or 32 gb to suit your level of </span>\n",
       "<span style=\"color: #008000; text-decoration-color: #008000\">reading and writing. \\\\n\\\\ngive me a good title for the article above. everything you need to know about the new </span>\n",
       "<span style=\"color: #008000; text-decoration-color: #008000\">kindle scribe'</span>,\n",
       "        <span style=\"color: #808000; text-decoration-color: #808000\">metadata</span>=<span style=\"font-weight: bold\">{</span>\n",
       "            <span style=\"color: #008000; text-decoration-color: #008000\">'title'</span>: <span style=\"color: #008000; text-decoration-color: #008000\">'Zero-shot prompting for the Flan-T5 foundation model in Amazon SageMaker JumpStart'</span>,\n",
       "            <span style=\"color: #008000; text-decoration-color: #008000\">'tags'</span>: <span style=\"font-weight: bold\">[</span>\n",
       "                <span style=\"color: #008000; text-decoration-color: #008000\">'Amazon SageMaker'</span>,\n",
       "                <span style=\"color: #008000; text-decoration-color: #008000\">'Amazon SageMaker JumpStart'</span>,\n",
       "                <span style=\"color: #008000; text-decoration-color: #008000\">'Expert (400)'</span>,\n",
       "                <span style=\"color: #008000; text-decoration-color: #008000\">'Generative AI'</span>,\n",
       "                <span style=\"color: #008000; text-decoration-color: #008000\">'Technical How-to'</span>\n",
       "            <span style=\"font-weight: bold\">]</span>,\n",
       "            <span style=\"color: #008000; text-decoration-color: #008000\">'authors'</span>: <span style=\"font-weight: bold\">[</span><span style=\"color: #008000; text-decoration-color: #008000\">'Vivek Gangasani'</span>, <span style=\"color: #008000; text-decoration-color: #008000\">'Kyle Ulrich'</span>, <span style=\"color: #008000; text-decoration-color: #008000\">'Xin Huang'</span><span style=\"font-weight: bold\">]</span>,\n",
       "            <span style=\"color: #008000; text-decoration-color: #008000\">'published_date'</span>: <span style=\"color: #008000; text-decoration-color: #008000\">'2023-04-03T10:37:07-08:00'</span>,\n",
       "            <span style=\"color: #008000; text-decoration-color: #008000\">'image_urls'</span>: <span style=\"font-weight: bold\">[</span>\n",
       "                <span style=\"color: #008000; text-decoration-color: #008000\">'https://d2908q01vomqb2.cloudfront.net/f1f836cb4ea6efb2a0b1b99f41ad8b103eff4b59/2023/03/28/Foundati</span>\n",
       "<span style=\"color: #008000; text-decoration-color: #008000\">on-models.jpg'</span>,\n",
       "                <span style=\"color: #008000; text-decoration-color: #008000\">'https://d2908q01vomqb2.cloudfront.net/f1f836cb4ea6efb2a0b1b99f41ad8b103eff4b59/2023/03/28/flan-t5x</span>\n",
       "<span style=\"color: #008000; text-decoration-color: #008000\">l.jpg'</span>,\n",
       "                <span style=\"color: #008000; text-decoration-color: #008000\">'https://d2908q01vomqb2.cloudfront.net/f1f836cb4ea6efb2a0b1b99f41ad8b103eff4b59/2023/03/28/Jumpstar</span>\n",
       "<span style=\"color: #008000; text-decoration-color: #008000\">t.jpg'</span>,\n",
       "                <span style=\"color: #008000; text-decoration-color: #008000\">'https://d2908q01vomqb2.cloudfront.net/f1f836cb4ea6efb2a0b1b99f41ad8b103eff4b59/2023/03/28/all-flan</span>\n",
       "<span style=\"color: #008000; text-decoration-color: #008000\">.jpg'</span>,\n",
       "                <span style=\"color: #008000; text-decoration-color: #008000\">'https://d2908q01vomqb2.cloudfront.net/f1f836cb4ea6efb2a0b1b99f41ad8b103eff4b59/2023/03/28/flan-t5x</span>\n",
       "<span style=\"color: #008000; text-decoration-color: #008000\">xl.jpg'</span>\n",
       "            <span style=\"font-weight: bold\">]</span>,\n",
       "            <span style=\"color: #008000; text-decoration-color: #008000\">'source'</span>: \n",
       "<span style=\"color: #008000; text-decoration-color: #008000\">'https://aws.amazon.com/blogs/machine-learning/zero-shot-prompting-for-the-flan-t5-foundation-model-in-amazon-sagem</span>\n",
       "<span style=\"color: #008000; text-decoration-color: #008000\">aker-jumpstart/'</span>,\n",
       "            <span style=\"color: #008000; text-decoration-color: #008000\">'passage'</span>: <span style=\"color: #008000; text-decoration-color: #008000\">'34/76'</span>\n",
       "        <span style=\"font-weight: bold\">}</span>\n",
       "    <span style=\"font-weight: bold\">)</span>,\n",
       "    <span style=\"color: #800080; text-decoration-color: #800080; font-weight: bold\">Document</span><span style=\"font-weight: bold\">(</span>\n",
       "        <span style=\"color: #808000; text-decoration-color: #808000\">page_content</span>=<span style=\"color: #008000; text-decoration-color: #008000\">'you can access amazon comprehend document analysis capabilities using the amazon comprehend </span>\n",
       "<span style=\"color: #008000; text-decoration-color: #008000\">console or using the amazon comprehend apis. you can run real-time analysis for small workloads or you can start </span>\n",
       "<span style=\"color: #008000; text-decoration-color: #008000\">asynchronous analysis jobs for large document sets. you can use the pre-trained models that amazon comprehend </span>\n",
       "<span style=\"color: #008000; text-decoration-color: #008000\">provides, or you can train your own custom models for classification and entity recognition. all of the amazon </span>\n",
       "<span style=\"color: #008000; text-decoration-color: #008000\">comprehend features accept utf-8 text documents as the input.'</span>,\n",
       "        <span style=\"color: #808000; text-decoration-color: #808000\">metadata</span>=<span style=\"font-weight: bold\">{</span>\n",
       "            <span style=\"color: #008000; text-decoration-color: #008000\">'title'</span>: <span style=\"color: #008000; text-decoration-color: #008000\">'Zero-shot prompting for the Flan-T5 foundation model in Amazon SageMaker JumpStart'</span>,\n",
       "            <span style=\"color: #008000; text-decoration-color: #008000\">'tags'</span>: <span style=\"font-weight: bold\">[</span>\n",
       "                <span style=\"color: #008000; text-decoration-color: #008000\">'Amazon SageMaker'</span>,\n",
       "                <span style=\"color: #008000; text-decoration-color: #008000\">'Amazon SageMaker JumpStart'</span>,\n",
       "                <span style=\"color: #008000; text-decoration-color: #008000\">'Expert (400)'</span>,\n",
       "                <span style=\"color: #008000; text-decoration-color: #008000\">'Generative AI'</span>,\n",
       "                <span style=\"color: #008000; text-decoration-color: #008000\">'Technical How-to'</span>\n",
       "            <span style=\"font-weight: bold\">]</span>,\n",
       "            <span style=\"color: #008000; text-decoration-color: #008000\">'authors'</span>: <span style=\"font-weight: bold\">[</span><span style=\"color: #008000; text-decoration-color: #008000\">'Vivek Gangasani'</span>, <span style=\"color: #008000; text-decoration-color: #008000\">'Kyle Ulrich'</span>, <span style=\"color: #008000; text-decoration-color: #008000\">'Xin Huang'</span><span style=\"font-weight: bold\">]</span>,\n",
       "            <span style=\"color: #008000; text-decoration-color: #008000\">'published_date'</span>: <span style=\"color: #008000; text-decoration-color: #008000\">'2023-04-03T10:37:07-08:00'</span>,\n",
       "            <span style=\"color: #008000; text-decoration-color: #008000\">'image_urls'</span>: <span style=\"font-weight: bold\">[</span>\n",
       "                <span style=\"color: #008000; text-decoration-color: #008000\">'https://d2908q01vomqb2.cloudfront.net/f1f836cb4ea6efb2a0b1b99f41ad8b103eff4b59/2023/03/28/Foundati</span>\n",
       "<span style=\"color: #008000; text-decoration-color: #008000\">on-models.jpg'</span>,\n",
       "                <span style=\"color: #008000; text-decoration-color: #008000\">'https://d2908q01vomqb2.cloudfront.net/f1f836cb4ea6efb2a0b1b99f41ad8b103eff4b59/2023/03/28/flan-t5x</span>\n",
       "<span style=\"color: #008000; text-decoration-color: #008000\">l.jpg'</span>,\n",
       "                <span style=\"color: #008000; text-decoration-color: #008000\">'https://d2908q01vomqb2.cloudfront.net/f1f836cb4ea6efb2a0b1b99f41ad8b103eff4b59/2023/03/28/Jumpstar</span>\n",
       "<span style=\"color: #008000; text-decoration-color: #008000\">t.jpg'</span>,\n",
       "                <span style=\"color: #008000; text-decoration-color: #008000\">'https://d2908q01vomqb2.cloudfront.net/f1f836cb4ea6efb2a0b1b99f41ad8b103eff4b59/2023/03/28/all-flan</span>\n",
       "<span style=\"color: #008000; text-decoration-color: #008000\">.jpg'</span>,\n",
       "                <span style=\"color: #008000; text-decoration-color: #008000\">'https://d2908q01vomqb2.cloudfront.net/f1f836cb4ea6efb2a0b1b99f41ad8b103eff4b59/2023/03/28/flan-t5x</span>\n",
       "<span style=\"color: #008000; text-decoration-color: #008000\">xl.jpg'</span>\n",
       "            <span style=\"font-weight: bold\">]</span>,\n",
       "            <span style=\"color: #008000; text-decoration-color: #008000\">'source'</span>: \n",
       "<span style=\"color: #008000; text-decoration-color: #008000\">'https://aws.amazon.com/blogs/machine-learning/zero-shot-prompting-for-the-flan-t5-foundation-model-in-amazon-sagem</span>\n",
       "<span style=\"color: #008000; text-decoration-color: #008000\">aker-jumpstart/'</span>,\n",
       "            <span style=\"color: #008000; text-decoration-color: #008000\">'passage'</span>: <span style=\"color: #008000; text-decoration-color: #008000\">'22/76'</span>\n",
       "        <span style=\"font-weight: bold\">}</span>\n",
       "    <span style=\"font-weight: bold\">)</span>,\n",
       "    <span style=\"color: #800080; text-decoration-color: #800080; font-weight: bold\">Document</span><span style=\"font-weight: bold\">(</span>\n",
       "        <span style=\"color: #808000; text-decoration-color: #808000\">page_content</span>=<span style=\"color: #008000; text-decoration-color: #008000\">'you can access amazon comprehend document analysis capabilities using the amazon comprehend </span>\n",
       "<span style=\"color: #008000; text-decoration-color: #008000\">console or using the amazon comprehend apis. you can run real-time analysis for small workloads or you can start </span>\n",
       "<span style=\"color: #008000; text-decoration-color: #008000\">asynchronous analysis jobs for large document sets. you can use the pre-trained models that amazon comprehend </span>\n",
       "<span style=\"color: #008000; text-decoration-color: #008000\">provides, or you can train your own custom models for classification and entity recognition. all of the amazon </span>\n",
       "<span style=\"color: #008000; text-decoration-color: #008000\">comprehend features accept utf-8 text documents as the input.'</span>,\n",
       "        <span style=\"color: #808000; text-decoration-color: #808000\">metadata</span>=<span style=\"font-weight: bold\">{</span>\n",
       "            <span style=\"color: #008000; text-decoration-color: #008000\">'title'</span>: <span style=\"color: #008000; text-decoration-color: #008000\">'Zero-shot prompting for the Flan-T5 foundation model in Amazon SageMaker JumpStart'</span>,\n",
       "            <span style=\"color: #008000; text-decoration-color: #008000\">'tags'</span>: <span style=\"font-weight: bold\">[</span>\n",
       "                <span style=\"color: #008000; text-decoration-color: #008000\">'Amazon SageMaker'</span>,\n",
       "                <span style=\"color: #008000; text-decoration-color: #008000\">'Amazon SageMaker JumpStart'</span>,\n",
       "                <span style=\"color: #008000; text-decoration-color: #008000\">'Expert (400)'</span>,\n",
       "                <span style=\"color: #008000; text-decoration-color: #008000\">'Generative AI'</span>,\n",
       "                <span style=\"color: #008000; text-decoration-color: #008000\">'Technical How-to'</span>\n",
       "            <span style=\"font-weight: bold\">]</span>,\n",
       "            <span style=\"color: #008000; text-decoration-color: #008000\">'authors'</span>: <span style=\"font-weight: bold\">[</span><span style=\"color: #008000; text-decoration-color: #008000\">'Vivek Gangasani'</span>, <span style=\"color: #008000; text-decoration-color: #008000\">'Kyle Ulrich'</span>, <span style=\"color: #008000; text-decoration-color: #008000\">'Xin Huang'</span><span style=\"font-weight: bold\">]</span>,\n",
       "            <span style=\"color: #008000; text-decoration-color: #008000\">'published_date'</span>: <span style=\"color: #008000; text-decoration-color: #008000\">'2023-04-03T10:37:07-08:00'</span>,\n",
       "            <span style=\"color: #008000; text-decoration-color: #008000\">'image_urls'</span>: <span style=\"font-weight: bold\">[</span>\n",
       "                <span style=\"color: #008000; text-decoration-color: #008000\">'https://d2908q01vomqb2.cloudfront.net/f1f836cb4ea6efb2a0b1b99f41ad8b103eff4b59/2023/03/28/Foundati</span>\n",
       "<span style=\"color: #008000; text-decoration-color: #008000\">on-models.jpg'</span>,\n",
       "                <span style=\"color: #008000; text-decoration-color: #008000\">'https://d2908q01vomqb2.cloudfront.net/f1f836cb4ea6efb2a0b1b99f41ad8b103eff4b59/2023/03/28/flan-t5x</span>\n",
       "<span style=\"color: #008000; text-decoration-color: #008000\">l.jpg'</span>,\n",
       "                <span style=\"color: #008000; text-decoration-color: #008000\">'https://d2908q01vomqb2.cloudfront.net/f1f836cb4ea6efb2a0b1b99f41ad8b103eff4b59/2023/03/28/Jumpstar</span>\n",
       "<span style=\"color: #008000; text-decoration-color: #008000\">t.jpg'</span>,\n",
       "                <span style=\"color: #008000; text-decoration-color: #008000\">'https://d2908q01vomqb2.cloudfront.net/f1f836cb4ea6efb2a0b1b99f41ad8b103eff4b59/2023/03/28/all-flan</span>\n",
       "<span style=\"color: #008000; text-decoration-color: #008000\">.jpg'</span>,\n",
       "                <span style=\"color: #008000; text-decoration-color: #008000\">'https://d2908q01vomqb2.cloudfront.net/f1f836cb4ea6efb2a0b1b99f41ad8b103eff4b59/2023/03/28/flan-t5x</span>\n",
       "<span style=\"color: #008000; text-decoration-color: #008000\">xl.jpg'</span>\n",
       "            <span style=\"font-weight: bold\">]</span>,\n",
       "            <span style=\"color: #008000; text-decoration-color: #008000\">'source'</span>: \n",
       "<span style=\"color: #008000; text-decoration-color: #008000\">'https://aws.amazon.com/blogs/machine-learning/zero-shot-prompting-for-the-flan-t5-foundation-model-in-amazon-sagem</span>\n",
       "<span style=\"color: #008000; text-decoration-color: #008000\">aker-jumpstart/'</span>,\n",
       "            <span style=\"color: #008000; text-decoration-color: #008000\">'passage'</span>: <span style=\"color: #008000; text-decoration-color: #008000\">'53/76'</span>\n",
       "        <span style=\"font-weight: bold\">}</span>\n",
       "    <span style=\"font-weight: bold\">)</span>,\n",
       "    <span style=\"color: #800080; text-decoration-color: #800080; font-weight: bold\">Document</span><span style=\"font-weight: bold\">(</span>\n",
       "        <span style=\"color: #808000; text-decoration-color: #808000\">page_content</span>=<span style=\"color: #008000; text-decoration-color: #008000\">'the premium pen includes a dedicated eraser and a customizable shortcut button. the kindle </span>\n",
       "<span style=\"color: #008000; text-decoration-color: #008000\">scribe has the most storage options of all kindle devices: choose from 8 gb, 16 gb, or 32 gb to suit your level of </span>\n",
       "<span style=\"color: #008000; text-decoration-color: #008000\">reading and writing.\\\\n\\\\nwhat are the key features of new kindle? 10.2-inch, glare-free screen'</span>,\n",
       "        <span style=\"color: #808000; text-decoration-color: #808000\">metadata</span>=<span style=\"font-weight: bold\">{</span>\n",
       "            <span style=\"color: #008000; text-decoration-color: #008000\">'title'</span>: <span style=\"color: #008000; text-decoration-color: #008000\">'Zero-shot prompting for the Flan-T5 foundation model in Amazon SageMaker JumpStart'</span>,\n",
       "            <span style=\"color: #008000; text-decoration-color: #008000\">'tags'</span>: <span style=\"font-weight: bold\">[</span>\n",
       "                <span style=\"color: #008000; text-decoration-color: #008000\">'Amazon SageMaker'</span>,\n",
       "                <span style=\"color: #008000; text-decoration-color: #008000\">'Amazon SageMaker JumpStart'</span>,\n",
       "                <span style=\"color: #008000; text-decoration-color: #008000\">'Expert (400)'</span>,\n",
       "                <span style=\"color: #008000; text-decoration-color: #008000\">'Generative AI'</span>,\n",
       "                <span style=\"color: #008000; text-decoration-color: #008000\">'Technical How-to'</span>\n",
       "            <span style=\"font-weight: bold\">]</span>,\n",
       "            <span style=\"color: #008000; text-decoration-color: #008000\">'authors'</span>: <span style=\"font-weight: bold\">[</span><span style=\"color: #008000; text-decoration-color: #008000\">'Vivek Gangasani'</span>, <span style=\"color: #008000; text-decoration-color: #008000\">'Kyle Ulrich'</span>, <span style=\"color: #008000; text-decoration-color: #008000\">'Xin Huang'</span><span style=\"font-weight: bold\">]</span>,\n",
       "            <span style=\"color: #008000; text-decoration-color: #008000\">'published_date'</span>: <span style=\"color: #008000; text-decoration-color: #008000\">'2023-04-03T10:37:07-08:00'</span>,\n",
       "            <span style=\"color: #008000; text-decoration-color: #008000\">'image_urls'</span>: <span style=\"font-weight: bold\">[</span>\n",
       "                <span style=\"color: #008000; text-decoration-color: #008000\">'https://d2908q01vomqb2.cloudfront.net/f1f836cb4ea6efb2a0b1b99f41ad8b103eff4b59/2023/03/28/Foundati</span>\n",
       "<span style=\"color: #008000; text-decoration-color: #008000\">on-models.jpg'</span>,\n",
       "                <span style=\"color: #008000; text-decoration-color: #008000\">'https://d2908q01vomqb2.cloudfront.net/f1f836cb4ea6efb2a0b1b99f41ad8b103eff4b59/2023/03/28/flan-t5x</span>\n",
       "<span style=\"color: #008000; text-decoration-color: #008000\">l.jpg'</span>,\n",
       "                <span style=\"color: #008000; text-decoration-color: #008000\">'https://d2908q01vomqb2.cloudfront.net/f1f836cb4ea6efb2a0b1b99f41ad8b103eff4b59/2023/03/28/Jumpstar</span>\n",
       "<span style=\"color: #008000; text-decoration-color: #008000\">t.jpg'</span>,\n",
       "                <span style=\"color: #008000; text-decoration-color: #008000\">'https://d2908q01vomqb2.cloudfront.net/f1f836cb4ea6efb2a0b1b99f41ad8b103eff4b59/2023/03/28/all-flan</span>\n",
       "<span style=\"color: #008000; text-decoration-color: #008000\">.jpg'</span>,\n",
       "                <span style=\"color: #008000; text-decoration-color: #008000\">'https://d2908q01vomqb2.cloudfront.net/f1f836cb4ea6efb2a0b1b99f41ad8b103eff4b59/2023/03/28/flan-t5x</span>\n",
       "<span style=\"color: #008000; text-decoration-color: #008000\">xl.jpg'</span>\n",
       "            <span style=\"font-weight: bold\">]</span>,\n",
       "            <span style=\"color: #008000; text-decoration-color: #008000\">'source'</span>: \n",
       "<span style=\"color: #008000; text-decoration-color: #008000\">'https://aws.amazon.com/blogs/machine-learning/zero-shot-prompting-for-the-flan-t5-foundation-model-in-amazon-sagem</span>\n",
       "<span style=\"color: #008000; text-decoration-color: #008000\">aker-jumpstart/'</span>,\n",
       "            <span style=\"color: #008000; text-decoration-color: #008000\">'passage'</span>: <span style=\"color: #008000; text-decoration-color: #008000\">'28/76'</span>\n",
       "        <span style=\"font-weight: bold\">}</span>\n",
       "    <span style=\"font-weight: bold\">)</span>,\n",
       "    <span style=\"color: #800080; text-decoration-color: #800080; font-weight: bold\">Document</span><span style=\"font-weight: bold\">(</span>\n",
       "        <span style=\"color: #808000; text-decoration-color: #808000\">page_content</span>=<span style=\"color: #008000; text-decoration-color: #008000\">'title generation based on an article the newest and most innovative kindle yet lets you take </span>\n",
       "<span style=\"color: #008000; text-decoration-color: #008000\">notes on millions of books and documents, write lists and journals, and more. for readers who have always wished </span>\n",
       "<span style=\"color: #008000; text-decoration-color: #008000\">they could write in their ebooks, amazon’s new kindle lets them do just that. the kindle scribe is the first kindle</span>\n",
       "<span style=\"color: #008000; text-decoration-color: #008000\">for reading and writing and allows users to supplement their books and documents with notes, lists, and more. </span>\n",
       "<span style=\"color: #008000; text-decoration-color: #008000\">here’s everything you need to know about the kindle scribe, including frequently asked questions.'</span>,\n",
       "        <span style=\"color: #808000; text-decoration-color: #808000\">metadata</span>=<span style=\"font-weight: bold\">{</span>\n",
       "            <span style=\"color: #008000; text-decoration-color: #008000\">'title'</span>: <span style=\"color: #008000; text-decoration-color: #008000\">'Zero-shot prompting for the Flan-T5 foundation model in Amazon SageMaker JumpStart'</span>,\n",
       "            <span style=\"color: #008000; text-decoration-color: #008000\">'tags'</span>: <span style=\"font-weight: bold\">[</span>\n",
       "                <span style=\"color: #008000; text-decoration-color: #008000\">'Amazon SageMaker'</span>,\n",
       "                <span style=\"color: #008000; text-decoration-color: #008000\">'Amazon SageMaker JumpStart'</span>,\n",
       "                <span style=\"color: #008000; text-decoration-color: #008000\">'Expert (400)'</span>,\n",
       "                <span style=\"color: #008000; text-decoration-color: #008000\">'Generative AI'</span>,\n",
       "                <span style=\"color: #008000; text-decoration-color: #008000\">'Technical How-to'</span>\n",
       "            <span style=\"font-weight: bold\">]</span>,\n",
       "            <span style=\"color: #008000; text-decoration-color: #008000\">'authors'</span>: <span style=\"font-weight: bold\">[</span><span style=\"color: #008000; text-decoration-color: #008000\">'Vivek Gangasani'</span>, <span style=\"color: #008000; text-decoration-color: #008000\">'Kyle Ulrich'</span>, <span style=\"color: #008000; text-decoration-color: #008000\">'Xin Huang'</span><span style=\"font-weight: bold\">]</span>,\n",
       "            <span style=\"color: #008000; text-decoration-color: #008000\">'published_date'</span>: <span style=\"color: #008000; text-decoration-color: #008000\">'2023-04-03T10:37:07-08:00'</span>,\n",
       "            <span style=\"color: #008000; text-decoration-color: #008000\">'image_urls'</span>: <span style=\"font-weight: bold\">[</span>\n",
       "                <span style=\"color: #008000; text-decoration-color: #008000\">'https://d2908q01vomqb2.cloudfront.net/f1f836cb4ea6efb2a0b1b99f41ad8b103eff4b59/2023/03/28/Foundati</span>\n",
       "<span style=\"color: #008000; text-decoration-color: #008000\">on-models.jpg'</span>,\n",
       "                <span style=\"color: #008000; text-decoration-color: #008000\">'https://d2908q01vomqb2.cloudfront.net/f1f836cb4ea6efb2a0b1b99f41ad8b103eff4b59/2023/03/28/flan-t5x</span>\n",
       "<span style=\"color: #008000; text-decoration-color: #008000\">l.jpg'</span>,\n",
       "                <span style=\"color: #008000; text-decoration-color: #008000\">'https://d2908q01vomqb2.cloudfront.net/f1f836cb4ea6efb2a0b1b99f41ad8b103eff4b59/2023/03/28/Jumpstar</span>\n",
       "<span style=\"color: #008000; text-decoration-color: #008000\">t.jpg'</span>,\n",
       "                <span style=\"color: #008000; text-decoration-color: #008000\">'https://d2908q01vomqb2.cloudfront.net/f1f836cb4ea6efb2a0b1b99f41ad8b103eff4b59/2023/03/28/all-flan</span>\n",
       "<span style=\"color: #008000; text-decoration-color: #008000\">.jpg'</span>,\n",
       "                <span style=\"color: #008000; text-decoration-color: #008000\">'https://d2908q01vomqb2.cloudfront.net/f1f836cb4ea6efb2a0b1b99f41ad8b103eff4b59/2023/03/28/flan-t5x</span>\n",
       "<span style=\"color: #008000; text-decoration-color: #008000\">xl.jpg'</span>\n",
       "            <span style=\"font-weight: bold\">]</span>,\n",
       "            <span style=\"color: #008000; text-decoration-color: #008000\">'source'</span>: \n",
       "<span style=\"color: #008000; text-decoration-color: #008000\">'https://aws.amazon.com/blogs/machine-learning/zero-shot-prompting-for-the-flan-t5-foundation-model-in-amazon-sagem</span>\n",
       "<span style=\"color: #008000; text-decoration-color: #008000\">aker-jumpstart/'</span>,\n",
       "            <span style=\"color: #008000; text-decoration-color: #008000\">'passage'</span>: <span style=\"color: #008000; text-decoration-color: #008000\">'32/76'</span>\n",
       "        <span style=\"font-weight: bold\">}</span>\n",
       "    <span style=\"font-weight: bold\">)</span>\n",
       "<span style=\"font-weight: bold\">]</span>\n",
       "</pre>\n"
      ],
      "text/plain": [
       "\u001b[1m[\u001b[0m\n",
       "    \u001b[1;35mDocument\u001b[0m\u001b[1m(\u001b[0m\n",
       "        \u001b[33mpage_content\u001b[0m=\u001b[32m'the premium pen includes a dedicated eraser and a customizable shortcut button. the kindle \u001b[0m\n",
       "\u001b[32mscribe has the most storage options of all kindle devices: choose from 8 gb, 16 gb, or 32 gb to suit your level of \u001b[0m\n",
       "\u001b[32mreading and writing. \\\\n\\\\ngive me a good title for the article above. everything you need to know about the new \u001b[0m\n",
       "\u001b[32mkindle scribe'\u001b[0m,\n",
       "        \u001b[33mmetadata\u001b[0m=\u001b[1m{\u001b[0m\n",
       "            \u001b[32m'title'\u001b[0m: \u001b[32m'Zero-shot prompting for the Flan-T5 foundation model in Amazon SageMaker JumpStart'\u001b[0m,\n",
       "            \u001b[32m'tags'\u001b[0m: \u001b[1m[\u001b[0m\n",
       "                \u001b[32m'Amazon SageMaker'\u001b[0m,\n",
       "                \u001b[32m'Amazon SageMaker JumpStart'\u001b[0m,\n",
       "                \u001b[32m'Expert \u001b[0m\u001b[32m(\u001b[0m\u001b[32m400\u001b[0m\u001b[32m)\u001b[0m\u001b[32m'\u001b[0m,\n",
       "                \u001b[32m'Generative AI'\u001b[0m,\n",
       "                \u001b[32m'Technical How-to'\u001b[0m\n",
       "            \u001b[1m]\u001b[0m,\n",
       "            \u001b[32m'authors'\u001b[0m: \u001b[1m[\u001b[0m\u001b[32m'Vivek Gangasani'\u001b[0m, \u001b[32m'Kyle Ulrich'\u001b[0m, \u001b[32m'Xin Huang'\u001b[0m\u001b[1m]\u001b[0m,\n",
       "            \u001b[32m'published_date'\u001b[0m: \u001b[32m'2023-04-03T10:37:07-08:00'\u001b[0m,\n",
       "            \u001b[32m'image_urls'\u001b[0m: \u001b[1m[\u001b[0m\n",
       "                \u001b[32m'https://d2908q01vomqb2.cloudfront.net/f1f836cb4ea6efb2a0b1b99f41ad8b103eff4b59/2023/03/28/Foundati\u001b[0m\n",
       "\u001b[32mon-models.jpg'\u001b[0m,\n",
       "                \u001b[32m'https://d2908q01vomqb2.cloudfront.net/f1f836cb4ea6efb2a0b1b99f41ad8b103eff4b59/2023/03/28/flan-t5x\u001b[0m\n",
       "\u001b[32ml.jpg'\u001b[0m,\n",
       "                \u001b[32m'https://d2908q01vomqb2.cloudfront.net/f1f836cb4ea6efb2a0b1b99f41ad8b103eff4b59/2023/03/28/Jumpstar\u001b[0m\n",
       "\u001b[32mt.jpg'\u001b[0m,\n",
       "                \u001b[32m'https://d2908q01vomqb2.cloudfront.net/f1f836cb4ea6efb2a0b1b99f41ad8b103eff4b59/2023/03/28/all-flan\u001b[0m\n",
       "\u001b[32m.jpg'\u001b[0m,\n",
       "                \u001b[32m'https://d2908q01vomqb2.cloudfront.net/f1f836cb4ea6efb2a0b1b99f41ad8b103eff4b59/2023/03/28/flan-t5x\u001b[0m\n",
       "\u001b[32mxl.jpg'\u001b[0m\n",
       "            \u001b[1m]\u001b[0m,\n",
       "            \u001b[32m'source'\u001b[0m: \n",
       "\u001b[32m'https://aws.amazon.com/blogs/machine-learning/zero-shot-prompting-for-the-flan-t5-foundation-model-in-amazon-sagem\u001b[0m\n",
       "\u001b[32maker-jumpstart/'\u001b[0m,\n",
       "            \u001b[32m'passage'\u001b[0m: \u001b[32m'34/76'\u001b[0m\n",
       "        \u001b[1m}\u001b[0m\n",
       "    \u001b[1m)\u001b[0m,\n",
       "    \u001b[1;35mDocument\u001b[0m\u001b[1m(\u001b[0m\n",
       "        \u001b[33mpage_content\u001b[0m=\u001b[32m'you can access amazon comprehend document analysis capabilities using the amazon comprehend \u001b[0m\n",
       "\u001b[32mconsole or using the amazon comprehend apis. you can run real-time analysis for small workloads or you can start \u001b[0m\n",
       "\u001b[32masynchronous analysis jobs for large document sets. you can use the pre-trained models that amazon comprehend \u001b[0m\n",
       "\u001b[32mprovides, or you can train your own custom models for classification and entity recognition. all of the amazon \u001b[0m\n",
       "\u001b[32mcomprehend features accept utf-8 text documents as the input.'\u001b[0m,\n",
       "        \u001b[33mmetadata\u001b[0m=\u001b[1m{\u001b[0m\n",
       "            \u001b[32m'title'\u001b[0m: \u001b[32m'Zero-shot prompting for the Flan-T5 foundation model in Amazon SageMaker JumpStart'\u001b[0m,\n",
       "            \u001b[32m'tags'\u001b[0m: \u001b[1m[\u001b[0m\n",
       "                \u001b[32m'Amazon SageMaker'\u001b[0m,\n",
       "                \u001b[32m'Amazon SageMaker JumpStart'\u001b[0m,\n",
       "                \u001b[32m'Expert \u001b[0m\u001b[32m(\u001b[0m\u001b[32m400\u001b[0m\u001b[32m)\u001b[0m\u001b[32m'\u001b[0m,\n",
       "                \u001b[32m'Generative AI'\u001b[0m,\n",
       "                \u001b[32m'Technical How-to'\u001b[0m\n",
       "            \u001b[1m]\u001b[0m,\n",
       "            \u001b[32m'authors'\u001b[0m: \u001b[1m[\u001b[0m\u001b[32m'Vivek Gangasani'\u001b[0m, \u001b[32m'Kyle Ulrich'\u001b[0m, \u001b[32m'Xin Huang'\u001b[0m\u001b[1m]\u001b[0m,\n",
       "            \u001b[32m'published_date'\u001b[0m: \u001b[32m'2023-04-03T10:37:07-08:00'\u001b[0m,\n",
       "            \u001b[32m'image_urls'\u001b[0m: \u001b[1m[\u001b[0m\n",
       "                \u001b[32m'https://d2908q01vomqb2.cloudfront.net/f1f836cb4ea6efb2a0b1b99f41ad8b103eff4b59/2023/03/28/Foundati\u001b[0m\n",
       "\u001b[32mon-models.jpg'\u001b[0m,\n",
       "                \u001b[32m'https://d2908q01vomqb2.cloudfront.net/f1f836cb4ea6efb2a0b1b99f41ad8b103eff4b59/2023/03/28/flan-t5x\u001b[0m\n",
       "\u001b[32ml.jpg'\u001b[0m,\n",
       "                \u001b[32m'https://d2908q01vomqb2.cloudfront.net/f1f836cb4ea6efb2a0b1b99f41ad8b103eff4b59/2023/03/28/Jumpstar\u001b[0m\n",
       "\u001b[32mt.jpg'\u001b[0m,\n",
       "                \u001b[32m'https://d2908q01vomqb2.cloudfront.net/f1f836cb4ea6efb2a0b1b99f41ad8b103eff4b59/2023/03/28/all-flan\u001b[0m\n",
       "\u001b[32m.jpg'\u001b[0m,\n",
       "                \u001b[32m'https://d2908q01vomqb2.cloudfront.net/f1f836cb4ea6efb2a0b1b99f41ad8b103eff4b59/2023/03/28/flan-t5x\u001b[0m\n",
       "\u001b[32mxl.jpg'\u001b[0m\n",
       "            \u001b[1m]\u001b[0m,\n",
       "            \u001b[32m'source'\u001b[0m: \n",
       "\u001b[32m'https://aws.amazon.com/blogs/machine-learning/zero-shot-prompting-for-the-flan-t5-foundation-model-in-amazon-sagem\u001b[0m\n",
       "\u001b[32maker-jumpstart/'\u001b[0m,\n",
       "            \u001b[32m'passage'\u001b[0m: \u001b[32m'22/76'\u001b[0m\n",
       "        \u001b[1m}\u001b[0m\n",
       "    \u001b[1m)\u001b[0m,\n",
       "    \u001b[1;35mDocument\u001b[0m\u001b[1m(\u001b[0m\n",
       "        \u001b[33mpage_content\u001b[0m=\u001b[32m'you can access amazon comprehend document analysis capabilities using the amazon comprehend \u001b[0m\n",
       "\u001b[32mconsole or using the amazon comprehend apis. you can run real-time analysis for small workloads or you can start \u001b[0m\n",
       "\u001b[32masynchronous analysis jobs for large document sets. you can use the pre-trained models that amazon comprehend \u001b[0m\n",
       "\u001b[32mprovides, or you can train your own custom models for classification and entity recognition. all of the amazon \u001b[0m\n",
       "\u001b[32mcomprehend features accept utf-8 text documents as the input.'\u001b[0m,\n",
       "        \u001b[33mmetadata\u001b[0m=\u001b[1m{\u001b[0m\n",
       "            \u001b[32m'title'\u001b[0m: \u001b[32m'Zero-shot prompting for the Flan-T5 foundation model in Amazon SageMaker JumpStart'\u001b[0m,\n",
       "            \u001b[32m'tags'\u001b[0m: \u001b[1m[\u001b[0m\n",
       "                \u001b[32m'Amazon SageMaker'\u001b[0m,\n",
       "                \u001b[32m'Amazon SageMaker JumpStart'\u001b[0m,\n",
       "                \u001b[32m'Expert \u001b[0m\u001b[32m(\u001b[0m\u001b[32m400\u001b[0m\u001b[32m)\u001b[0m\u001b[32m'\u001b[0m,\n",
       "                \u001b[32m'Generative AI'\u001b[0m,\n",
       "                \u001b[32m'Technical How-to'\u001b[0m\n",
       "            \u001b[1m]\u001b[0m,\n",
       "            \u001b[32m'authors'\u001b[0m: \u001b[1m[\u001b[0m\u001b[32m'Vivek Gangasani'\u001b[0m, \u001b[32m'Kyle Ulrich'\u001b[0m, \u001b[32m'Xin Huang'\u001b[0m\u001b[1m]\u001b[0m,\n",
       "            \u001b[32m'published_date'\u001b[0m: \u001b[32m'2023-04-03T10:37:07-08:00'\u001b[0m,\n",
       "            \u001b[32m'image_urls'\u001b[0m: \u001b[1m[\u001b[0m\n",
       "                \u001b[32m'https://d2908q01vomqb2.cloudfront.net/f1f836cb4ea6efb2a0b1b99f41ad8b103eff4b59/2023/03/28/Foundati\u001b[0m\n",
       "\u001b[32mon-models.jpg'\u001b[0m,\n",
       "                \u001b[32m'https://d2908q01vomqb2.cloudfront.net/f1f836cb4ea6efb2a0b1b99f41ad8b103eff4b59/2023/03/28/flan-t5x\u001b[0m\n",
       "\u001b[32ml.jpg'\u001b[0m,\n",
       "                \u001b[32m'https://d2908q01vomqb2.cloudfront.net/f1f836cb4ea6efb2a0b1b99f41ad8b103eff4b59/2023/03/28/Jumpstar\u001b[0m\n",
       "\u001b[32mt.jpg'\u001b[0m,\n",
       "                \u001b[32m'https://d2908q01vomqb2.cloudfront.net/f1f836cb4ea6efb2a0b1b99f41ad8b103eff4b59/2023/03/28/all-flan\u001b[0m\n",
       "\u001b[32m.jpg'\u001b[0m,\n",
       "                \u001b[32m'https://d2908q01vomqb2.cloudfront.net/f1f836cb4ea6efb2a0b1b99f41ad8b103eff4b59/2023/03/28/flan-t5x\u001b[0m\n",
       "\u001b[32mxl.jpg'\u001b[0m\n",
       "            \u001b[1m]\u001b[0m,\n",
       "            \u001b[32m'source'\u001b[0m: \n",
       "\u001b[32m'https://aws.amazon.com/blogs/machine-learning/zero-shot-prompting-for-the-flan-t5-foundation-model-in-amazon-sagem\u001b[0m\n",
       "\u001b[32maker-jumpstart/'\u001b[0m,\n",
       "            \u001b[32m'passage'\u001b[0m: \u001b[32m'53/76'\u001b[0m\n",
       "        \u001b[1m}\u001b[0m\n",
       "    \u001b[1m)\u001b[0m,\n",
       "    \u001b[1;35mDocument\u001b[0m\u001b[1m(\u001b[0m\n",
       "        \u001b[33mpage_content\u001b[0m=\u001b[32m'the premium pen includes a dedicated eraser and a customizable shortcut button. the kindle \u001b[0m\n",
       "\u001b[32mscribe has the most storage options of all kindle devices: choose from 8 gb, 16 gb, or 32 gb to suit your level of \u001b[0m\n",
       "\u001b[32mreading and writing.\\\\n\\\\nwhat are the key features of new kindle? 10.2-inch, glare-free screen'\u001b[0m,\n",
       "        \u001b[33mmetadata\u001b[0m=\u001b[1m{\u001b[0m\n",
       "            \u001b[32m'title'\u001b[0m: \u001b[32m'Zero-shot prompting for the Flan-T5 foundation model in Amazon SageMaker JumpStart'\u001b[0m,\n",
       "            \u001b[32m'tags'\u001b[0m: \u001b[1m[\u001b[0m\n",
       "                \u001b[32m'Amazon SageMaker'\u001b[0m,\n",
       "                \u001b[32m'Amazon SageMaker JumpStart'\u001b[0m,\n",
       "                \u001b[32m'Expert \u001b[0m\u001b[32m(\u001b[0m\u001b[32m400\u001b[0m\u001b[32m)\u001b[0m\u001b[32m'\u001b[0m,\n",
       "                \u001b[32m'Generative AI'\u001b[0m,\n",
       "                \u001b[32m'Technical How-to'\u001b[0m\n",
       "            \u001b[1m]\u001b[0m,\n",
       "            \u001b[32m'authors'\u001b[0m: \u001b[1m[\u001b[0m\u001b[32m'Vivek Gangasani'\u001b[0m, \u001b[32m'Kyle Ulrich'\u001b[0m, \u001b[32m'Xin Huang'\u001b[0m\u001b[1m]\u001b[0m,\n",
       "            \u001b[32m'published_date'\u001b[0m: \u001b[32m'2023-04-03T10:37:07-08:00'\u001b[0m,\n",
       "            \u001b[32m'image_urls'\u001b[0m: \u001b[1m[\u001b[0m\n",
       "                \u001b[32m'https://d2908q01vomqb2.cloudfront.net/f1f836cb4ea6efb2a0b1b99f41ad8b103eff4b59/2023/03/28/Foundati\u001b[0m\n",
       "\u001b[32mon-models.jpg'\u001b[0m,\n",
       "                \u001b[32m'https://d2908q01vomqb2.cloudfront.net/f1f836cb4ea6efb2a0b1b99f41ad8b103eff4b59/2023/03/28/flan-t5x\u001b[0m\n",
       "\u001b[32ml.jpg'\u001b[0m,\n",
       "                \u001b[32m'https://d2908q01vomqb2.cloudfront.net/f1f836cb4ea6efb2a0b1b99f41ad8b103eff4b59/2023/03/28/Jumpstar\u001b[0m\n",
       "\u001b[32mt.jpg'\u001b[0m,\n",
       "                \u001b[32m'https://d2908q01vomqb2.cloudfront.net/f1f836cb4ea6efb2a0b1b99f41ad8b103eff4b59/2023/03/28/all-flan\u001b[0m\n",
       "\u001b[32m.jpg'\u001b[0m,\n",
       "                \u001b[32m'https://d2908q01vomqb2.cloudfront.net/f1f836cb4ea6efb2a0b1b99f41ad8b103eff4b59/2023/03/28/flan-t5x\u001b[0m\n",
       "\u001b[32mxl.jpg'\u001b[0m\n",
       "            \u001b[1m]\u001b[0m,\n",
       "            \u001b[32m'source'\u001b[0m: \n",
       "\u001b[32m'https://aws.amazon.com/blogs/machine-learning/zero-shot-prompting-for-the-flan-t5-foundation-model-in-amazon-sagem\u001b[0m\n",
       "\u001b[32maker-jumpstart/'\u001b[0m,\n",
       "            \u001b[32m'passage'\u001b[0m: \u001b[32m'28/76'\u001b[0m\n",
       "        \u001b[1m}\u001b[0m\n",
       "    \u001b[1m)\u001b[0m,\n",
       "    \u001b[1;35mDocument\u001b[0m\u001b[1m(\u001b[0m\n",
       "        \u001b[33mpage_content\u001b[0m=\u001b[32m'title generation based on an article the newest and most innovative kindle yet lets you take \u001b[0m\n",
       "\u001b[32mnotes on millions of books and documents, write lists and journals, and more. for readers who have always wished \u001b[0m\n",
       "\u001b[32mthey could write in their ebooks, amazon’s new kindle lets them do just that. the kindle scribe is the first kindle\u001b[0m\n",
       "\u001b[32mfor reading and writing and allows users to supplement their books and documents with notes, lists, and more. \u001b[0m\n",
       "\u001b[32mhere’s everything you need to know about the kindle scribe, including frequently asked questions.'\u001b[0m,\n",
       "        \u001b[33mmetadata\u001b[0m=\u001b[1m{\u001b[0m\n",
       "            \u001b[32m'title'\u001b[0m: \u001b[32m'Zero-shot prompting for the Flan-T5 foundation model in Amazon SageMaker JumpStart'\u001b[0m,\n",
       "            \u001b[32m'tags'\u001b[0m: \u001b[1m[\u001b[0m\n",
       "                \u001b[32m'Amazon SageMaker'\u001b[0m,\n",
       "                \u001b[32m'Amazon SageMaker JumpStart'\u001b[0m,\n",
       "                \u001b[32m'Expert \u001b[0m\u001b[32m(\u001b[0m\u001b[32m400\u001b[0m\u001b[32m)\u001b[0m\u001b[32m'\u001b[0m,\n",
       "                \u001b[32m'Generative AI'\u001b[0m,\n",
       "                \u001b[32m'Technical How-to'\u001b[0m\n",
       "            \u001b[1m]\u001b[0m,\n",
       "            \u001b[32m'authors'\u001b[0m: \u001b[1m[\u001b[0m\u001b[32m'Vivek Gangasani'\u001b[0m, \u001b[32m'Kyle Ulrich'\u001b[0m, \u001b[32m'Xin Huang'\u001b[0m\u001b[1m]\u001b[0m,\n",
       "            \u001b[32m'published_date'\u001b[0m: \u001b[32m'2023-04-03T10:37:07-08:00'\u001b[0m,\n",
       "            \u001b[32m'image_urls'\u001b[0m: \u001b[1m[\u001b[0m\n",
       "                \u001b[32m'https://d2908q01vomqb2.cloudfront.net/f1f836cb4ea6efb2a0b1b99f41ad8b103eff4b59/2023/03/28/Foundati\u001b[0m\n",
       "\u001b[32mon-models.jpg'\u001b[0m,\n",
       "                \u001b[32m'https://d2908q01vomqb2.cloudfront.net/f1f836cb4ea6efb2a0b1b99f41ad8b103eff4b59/2023/03/28/flan-t5x\u001b[0m\n",
       "\u001b[32ml.jpg'\u001b[0m,\n",
       "                \u001b[32m'https://d2908q01vomqb2.cloudfront.net/f1f836cb4ea6efb2a0b1b99f41ad8b103eff4b59/2023/03/28/Jumpstar\u001b[0m\n",
       "\u001b[32mt.jpg'\u001b[0m,\n",
       "                \u001b[32m'https://d2908q01vomqb2.cloudfront.net/f1f836cb4ea6efb2a0b1b99f41ad8b103eff4b59/2023/03/28/all-flan\u001b[0m\n",
       "\u001b[32m.jpg'\u001b[0m,\n",
       "                \u001b[32m'https://d2908q01vomqb2.cloudfront.net/f1f836cb4ea6efb2a0b1b99f41ad8b103eff4b59/2023/03/28/flan-t5x\u001b[0m\n",
       "\u001b[32mxl.jpg'\u001b[0m\n",
       "            \u001b[1m]\u001b[0m,\n",
       "            \u001b[32m'source'\u001b[0m: \n",
       "\u001b[32m'https://aws.amazon.com/blogs/machine-learning/zero-shot-prompting-for-the-flan-t5-foundation-model-in-amazon-sagem\u001b[0m\n",
       "\u001b[32maker-jumpstart/'\u001b[0m,\n",
       "            \u001b[32m'passage'\u001b[0m: \u001b[32m'32/76'\u001b[0m\n",
       "        \u001b[1m}\u001b[0m\n",
       "    \u001b[1m)\u001b[0m\n",
       "\u001b[1m]\u001b[0m\n"
      ]
     },
     "metadata": {},
     "output_type": "display_data"
    }
   ],
   "source": [
    "# Prepare query\n",
    "query = \"query: retain pdf formatting\"\n",
    "\n",
    "# Encode query vector\n",
    "query_vector = encode_e5(query)\n",
    "\n",
    "results = db.similarity_search(query, k=5)\n",
    "\n",
    "# Print results\n",
    "print(results)"
   ]
  }
 ],
 "metadata": {
  "kernelspec": {
   "display_name": "nlp",
   "language": "python",
   "name": "nlp"
  },
  "language_info": {
   "codemirror_mode": {
    "name": "ipython",
    "version": 3
   },
   "file_extension": ".py",
   "mimetype": "text/x-python",
   "name": "python",
   "nbconvert_exporter": "python",
   "pygments_lexer": "ipython3",
   "version": "3.9.16"
  }
 },
 "nbformat": 4,
 "nbformat_minor": 5
}
